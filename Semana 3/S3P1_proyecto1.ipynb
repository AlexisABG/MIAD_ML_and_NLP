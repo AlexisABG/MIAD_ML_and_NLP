{
 "cells": [
  {
   "cell_type": "markdown",
   "metadata": {},
   "source": [
    "![image info](https://raw.githubusercontent.com/albahnsen/MIAD_ML_and_NLP/main/images/banner_1.png)"
   ]
  },
  {
   "cell_type": "markdown",
   "metadata": {},
   "source": [
    "# Proyecto 1 - Predicción de precios de vehículos usados\n",
    "\n",
    "En este proyecto podrán poner en práctica sus conocimientos sobre modelos predictivos basados en árboles y ensambles, y sobre la disponibilización de modelos. Para el desarrollo del proyecto consideren los siguientes numerales:\n",
    "\n",
    "**1. Modelado**: En el notebook, realicen el preprocesamiento de los datos que consideren pertinente, así como la selección, entrenamiento y calibración del modelo predictivo con los datos de entrenamiento. \n",
    "\n",
    "**2. Disponibilización**: Creen una API del modelo alojado en un servicio en la nube.\n",
    "\n",
    "**3. Informe Autocontenido**: Realicen un informe con todos los detalles de la solución, incluyan pantallazos o fracciones de código que sorporten el preprocesamiento de datos y la calibración y entrenamiento del modelo. Además, incluyan la justificación de su selección de técnicas de preprocesamiento, modelo y método calibración, así como el análisis del desempeño, la dispobilización (incluir capturas de pantalla del modelo haciendo predicciones en la máquina local) y las conclusiones. El informe no puede exceder las 10 páginas, debe enviarse en formato PDF y debe ser completamente autocontenido.\n",
    "\n",
    "**4. Competencia**: Una vez hayan entrenado el modelo, predigan las probabilidades para los datos de test y suban sus resultados a la competencia privada de Kaggle. En la sección de *Ejemplo predicción conjunto de test para envío* que encuentran en este notebook, podrán ver el formato requerido para guardar los resultados. La calificación para cada grupo será proporcional al lugar que ocupen en el ranking de la competencia. El grupo que ocupe el primer lugar obtendrá 50 puntos, por cada puesto a continuación se restarán 2.5 puntos, es decir: primer lugar 50 puntos, segundo 47.5 puntos, tercer lugar 45 puntos y así sucesivamente.\n",
    "\n",
    "Para la entrega del proyecto que será en la semana 4 deberán adjuntar el informe autoconenido en PDF y subir el archivo de predicciones a la competencia de Kaggle."
   ]
  },
  {
   "cell_type": "markdown",
   "metadata": {},
   "source": [
    "## Datos para la predicción de precios de vehículos usados\n",
    "\n",
    "En este proyecto se usará el conjunto de datos de Car Listings de Kaggle, donde cada observación representa el precio de un automóvil teniendo en cuenta distintas variables como: año, marca, modelo, entre otras. El objetivo es predecir si el precio del automóvil es alto o no. Para más detalles puede visitar el siguiente enlace: [datos](https://www.kaggle.com/jpayne/852k-used-car-listings)."
   ]
  },
  {
   "cell_type": "markdown",
   "metadata": {},
   "source": [
    "## Ejemplo predicción conjunto de test para envío"
   ]
  },
  {
   "cell_type": "code",
   "execution_count": null,
   "metadata": {},
   "outputs": [],
   "source": [
    "# Importación librerías\n",
    "import pandas as pd\n",
    "import numpy as np"
   ]
  },
  {
   "cell_type": "code",
   "execution_count": null,
   "metadata": {},
   "outputs": [],
   "source": [
    "# Carga de datos de archivo .csv\n",
    "dataTraining = pd.read_csv('https://raw.githubusercontent.com/albahnsen/MIAD_ML_and_NLP/main/datasets/dataTrain_carListings.zip')\n",
    "dataTesting = pd.read_csv('https://raw.githubusercontent.com/albahnsen/MIAD_ML_and_NLP/main/datasets/dataTest_carListings.zip', index_col=0)"
   ]
  },
  {
   "cell_type": "code",
   "execution_count": null,
   "metadata": {},
   "outputs": [],
   "source": [
    "# Visualización datos de entrenamiento\n",
    "dataTraining.head()"
   ]
  },
  {
   "cell_type": "code",
   "execution_count": null,
   "metadata": {},
   "outputs": [],
   "source": [
    "# Visualización datos de test\n",
    "dataTesting.head()"
   ]
  },
  {
   "cell_type": "code",
   "execution_count": null,
   "metadata": {},
   "outputs": [],
   "source": [
    "# Predicción del conjunto de test - acá se genera un número aleatorio como ejemplo\n",
    "np.random.seed(42)\n",
    "y_pred = pd.DataFrame(np.random.rand(dataTesting.shape[0]) * 75000 + 5000, index=dataTesting.index, columns=['Price'])"
   ]
  },
  {
   "cell_type": "code",
   "execution_count": null,
   "metadata": {},
   "outputs": [],
   "source": [
    "# Guardar predicciones en formato exigido en la competencia de kaggle\n",
    "y_pred.to_csv('test_submission.csv', index_label='ID')\n",
    "y_pred.head()"
   ]
  }
 ],
 "metadata": {
  "kernelspec": {
   "display_name": "Python 3",
   "language": "python",
   "name": "python3"
  },
  "language_info": {
   "codemirror_mode": {
    "name": "ipython",
    "version": 3
   },
   "file_extension": ".py",
   "mimetype": "text/x-python",
   "name": "python",
   "nbconvert_exporter": "python",
   "pygments_lexer": "ipython3",
   "version": "3.7.3"
  }
 },
 "nbformat": 4,
 "nbformat_minor": 1
}
