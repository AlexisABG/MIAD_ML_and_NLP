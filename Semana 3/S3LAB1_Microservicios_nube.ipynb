{
 "cells": [
  {
   "cell_type": "markdown",
   "metadata": {},
   "source": [
    "![image info](https://raw.githubusercontent.com/albahnsen/MIAD_ML_and_NLP/main/images/banner_1.png)"
   ]
  },
  {
   "cell_type": "markdown",
   "metadata": {},
   "source": [
    "# Disponibilización de modelos la nube\n",
    "\n",
    "En este notebook aprenderá a disponibilizar un modelo en una API alojada en un servicio en la nube. Los servicios de nube son plataformas de software que ofrecen servicios informáticos a través de Internet. Particularmente, en este notebook se usara Amazon Web Services (AWS) que es una plataforma de computación en la nube integral creada por Amazon que ofrece servicios como almacenamiento, redes, computación remota, correo electrónico, desarrollo móvil, servidores y seguridad."
   ]
  },
  {
   "cell_type": "markdown",
   "metadata": {},
   "source": [
    "This notebook is licensed under a [Creative Commons Attribution-ShareAlike 3.0 Unported License](http://creativecommons.org/licenses/by-sa/3.0/deed.en_US)."
   ]
  },
  {
   "cell_type": "markdown",
   "metadata": {},
   "source": [
    "## Instrucciones Generales:\n",
    "\n",
    "Este notebook esta compuesto por cuatro secciones. En la primera sección, usted beberá crear su cuenta de AWS y en la segunda creará las instancia de EC2 en AWS para disponibiliza el modelo en la nube. Luego en la tercera sección, se deberá conectar a la instacia creada y finalmente en la ultima sección implementar la API de Flask.\n",
    "  \n",
    "Para realizar la actividad, solo siga las indicaciones asociadas a cada celda del notebook. \n"
   ]
  },
  {
   "cell_type": "markdown",
   "metadata": {},
   "source": [
    "## Ingreso a AWS\n",
    "En esta sección se indican cómo crear una cuneta nueva e ingresar a AWS."
   ]
  },
  {
   "cell_type": "markdown",
   "metadata": {},
   "source": [
    "### Crear cuenta en AWS\n",
    "Ingrese al portal de [AWS](https://portal.aws.amazon.com/billing/signup) y cree una cuenta propia siguendo los pasos indicados en la página, si ya tiene una cuenta inicie sesión.\n",
    "\n",
    "![](https://raw.githubusercontent.com/albahnsen/MIAD_ML_and_NLP/main/images/AWS/img001.PNG)"
   ]
  },
  {
   "cell_type": "markdown",
   "metadata": {},
   "source": [
    "### Esperar hasta que la cuenta este activa\n",
    "Una vez haga creado su cuenta espere que su cuenta sea activada, esto suele demorarse varios minutos.\n",
    "\n",
    "![](https://raw.githubusercontent.com/albahnsen/MIAD_ML_and_NLP/main/images/AWS/img003.PNG)"
   ]
  },
  {
   "cell_type": "markdown",
   "metadata": {},
   "source": [
    "### Inicie sesión en la consola de administración de AWS\n",
    "Con su cuenta activa, podra ingresar a la consola de admisnitración (management console) donde podra encontrar los diferentes servicios que ofrece AWS.\n",
    "![](https://raw.githubusercontent.com/albahnsen/MIAD_ML_and_NLP/main/images/AWS/img002.GIF)"
   ]
  },
  {
   "cell_type": "markdown",
   "metadata": {},
   "source": [
    "## Crear instancia de EC2\n",
    "En esta sección se crea una instancia de EC2. Una instancia de Elastic Compute Cloud (EC2) es un servidor virtual para ejecutar aplicaciones en la infraestructura de Amazon Web Services (AWS). Las instancias se crean a partir de Amazon Machine Images (AMI), estas incluyen los requerimientos para la instancia por ejemplo capacidad y sistema operativo. Para más detalles de este servicio y sus caracteristicas puede visitar el siguiente enlace: [link](https://aws.amazon.com/es/ec2/?ec2-whats-new.sort-by=item.additionalFields.postDateTime&ec2-whats-new.sort-order=desc)"
   ]
  },
  {
   "cell_type": "markdown",
   "metadata": {},
   "source": [
    "### Seleccionar AMI\n",
    "Primero busque en la consola de administración el servicio de EC2 y seleccionelo. A continuación, seleccione la AMI (que se ve en la imagen) a usar en la instancia.\n",
    "![](https://raw.githubusercontent.com/albahnsen/MIAD_ML_and_NLP/main/images/AWS/img004.PNG)"
   ]
  },
  {
   "cell_type": "markdown",
   "metadata": {},
   "source": [
    "### Seleccionar tipo de instancia\n",
    "Luego seleccione el tipo de instancia. En este caso se usara una t2.micro, tal y como muestra la imagen, y se continua dando click al boton *Review and Launch*.\n",
    "![](https://raw.githubusercontent.com/albahnsen/MIAD_ML_and_NLP/main/images/AWS/img005.PNG)"
   ]
  },
  {
   "cell_type": "markdown",
   "metadata": {},
   "source": [
    "### Configurar seguridad\n",
    "Ahora, configure el grupo de seguridad (Security Group) que de manera general es un firewall virtual para las instancias EC2 con el fin de controlar el tráfico entrante y saliente. Agregue la regla de tipo *SSH* que se ve en la imagen. Para más detalles puede visitar el siguiente enlace: [link](https://docs.aws.amazon.com/es_es/AWSEC2/latest/UserGuide/ec2-security-groups.html)\n",
    "![](https://raw.githubusercontent.com/albahnsen/MIAD_ML_and_NLP/main/images/AWS/img006.PNG)"
   ]
  },
  {
   "cell_type": "markdown",
   "metadata": {},
   "source": [
    "A continuación, agregue otra regla de tipo Custom TCP con puerto 5000, este sera el que se usará para conectar con Falsk.\n",
    "![](https://raw.githubusercontent.com/albahnsen/MIAD_ML_and_NLP/main/images/AWS/img007.PNG)"
   ]
  },
  {
   "cell_type": "markdown",
   "metadata": {},
   "source": [
    "### Lanzamineto de la instancia\n",
    "Antes de hacer el 'lanzamiento' o 'launch' de la instancia revise los parámetros y detalles de cada componente, una vez haya validado de click en el boto *launch*.\n",
    "![](https://raw.githubusercontent.com/albahnsen/MIAD_ML_and_NLP/main/images/AWS/img008.PNG)"
   ]
  },
  {
   "cell_type": "markdown",
   "metadata": {},
   "source": [
    "### Descargar Key de seguridad de la instancia\n",
    "Por último, debe generar un *key pair* selecionando *Create a new key pair* y asignando el nombre de *temp_key_aws*. Luego de click en *Download Key Pair* y asegurese de guardar el archivo (.pem) pues no sodra descargarlo despues de creada la instancia. Esta llave o Key le permitirá conectarse a la instancia luego, ya que son las credenciales para demostrar su identidad cuando se conecta a una instancia de Amazon EC2.\n",
    "![](https://raw.githubusercontent.com/albahnsen/MIAD_ML_and_NLP/main/images/AWS/img009.PNG)"
   ]
  },
  {
   "cell_type": "markdown",
   "metadata": {},
   "source": [
    "### Instancia creada\n",
    "![](https://raw.githubusercontent.com/albahnsen/MIAD_ML_and_NLP/main/images/AWS/img010.PNG)"
   ]
  },
  {
   "cell_type": "markdown",
   "metadata": {},
   "source": [
    "## Conectarse a la instancia de AWS\n",
    "\n",
    "Paa conectarse a la instancia que acaba de crear siga el sigueinte [tutotial](https://docs.aws.amazon.com/AWSEC2/latest/UserGuide/AccessingInstances.html)\n",
    "\n",
    "![](https://raw.githubusercontent.com/albahnsen/MIAD_ML_and_NLP/main/images/AWS/img011.PNG)"
   ]
  },
  {
   "cell_type": "markdown",
   "metadata": {},
   "source": [
    "### Probar conexión\n",
    "![](https://raw.githubusercontent.com/albahnsen/MIAD_ML_and_NLP/main/images/AWS/img012.PNG)"
   ]
  },
  {
   "cell_type": "markdown",
   "metadata": {},
   "source": [
    "## Implementar la API de Flask\n",
    "En esta sección se indica cómo implementar la API de flask para desplegar el modelo trabajado en el laboratorio anterior."
   ]
  },
  {
   "cell_type": "markdown",
   "metadata": {},
   "source": [
    "### Instalar Anaconda\n",
    "\n",
    "Instale Anaconda con los siguientes comandos:\n",
    "\n",
    "`wget https://repo.anaconda.com/archive/Anaconda3-2018.12-Linux-x86_64.sh`\n",
    "\n",
    "`bash Anaconda3-2018.12-Linux-x86_64.sh`\n",
    "\n",
    "Para validar que haya quedado instalado corra el comando *python* en la consola.\n",
    "\n",
    "![](https://raw.githubusercontent.com/albahnsen/MIAD_ML_and_NLP/main/images/AWS//img013.PNG)"
   ]
  },
  {
   "cell_type": "markdown",
   "metadata": {},
   "source": [
    "### Clonar repositorio\n",
    "Clone el repositorio del curso en la consola con el comando:\n",
    "`git clone https://github.com/albahnsen/MIAD_ML_and_NLP.git`\n",
    "\n",
    "Una vez clonado, dirigase a la carpeta 'model_deployment' con el comando:\n",
    "`cd model_deployment`\n",
    "\n",
    "![](https://raw.githubusercontent.com/albahnsen/MIAD_ML_and_NLP/main/images/AWS/img014.PNG)"
   ]
  },
  {
   "cell_type": "markdown",
   "metadata": {},
   "source": [
    "### Instalar librerias adicionales\n",
    "\n",
    "Instale la libreria Flak en la consolo con el comando:\n",
    "`pip install flask-restplus`"
   ]
  },
  {
   "cell_type": "markdown",
   "metadata": {},
   "source": [
    "Corra el siguiente comando para finalizar el desplegue de la API usando flask\n",
    "\n",
    "`nohup python api.py &`"
   ]
  },
  {
   "cell_type": "markdown",
   "metadata": {},
   "source": [
    "## Validar API en AWS\n",
    "Diríjase a al portal de -ec2-machine-ip-:5000, en el caso ejemplo correponde a la dirección http://54.175.140.184:5000/, esta puede variar.\n",
    "\n",
    "![](https://raw.githubusercontent.com/albahnsen/MIAD_ML_and_NLP/main/images/AWS/img015.PNG)"
   ]
  },
  {
   "cell_type": "markdown",
   "metadata": {},
   "source": [
    "### Comando para terminar el proceso\n",
    "Use el siguente comando **ps -ef |grep jupyter** para para terminar proceso, luego use **kill -9 xxxx** donde xxxx es el numero de proceso.\n"
   ]
  }
 ],
 "metadata": {
  "kernelspec": {
   "display_name": "Python 3",
   "language": "python",
   "name": "python3"
  },
  "language_info": {
   "codemirror_mode": {
    "name": "ipython",
    "version": 3
   },
   "file_extension": ".py",
   "mimetype": "text/x-python",
   "name": "python",
   "nbconvert_exporter": "python",
   "pygments_lexer": "ipython3",
   "version": "3.7.3"
  }
 },
 "nbformat": 4,
 "nbformat_minor": 4
}
