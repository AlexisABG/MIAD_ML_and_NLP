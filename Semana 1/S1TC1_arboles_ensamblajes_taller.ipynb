{
 "cells": [
  {
   "cell_type": "markdown",
   "metadata": {},
   "source": [
    "![image info](https://raw.githubusercontent.com/albahnsen/MIAD_ML_and_NLP/main/images/banner_1.png)"
   ]
  },
  {
   "cell_type": "markdown",
   "metadata": {},
   "source": [
    "# Taller: Construcción e implementación de árboles de decisión y métodos de ensamblaje\n",
    "\n",
    "En este taller podrá poner en práctica los sus conocimientos sobre construcción e implementación de árboles de decisión y métodos de ensamblajes. El taller está constituido por 9 puntos, 5 relacionados con árboles de decisión (parte A) y 4 con métodos de ensamblaje (parte B)."
   ]
  },
  {
   "cell_type": "markdown",
   "metadata": {},
   "source": [
    "## Parte A - Árboles de decisión\n",
    "\n",
    "En esta parte del taller se usará el conjunto de datos de Capital Bikeshare de Kaggle, donde cada observación representa el alquiler de una bicicleta durante una hora y día determinado. Para más detalles puede visitar los siguientes enlaces: [datos](https://github.com/justmarkham/DAT8/blob/master/data/bikeshare.csv), [dicccionario de datos](https://www.kaggle.com/c/bike-sharing-demand/data)."
   ]
  },
  {
   "cell_type": "markdown",
   "metadata": {},
   "source": [
    "### Datos prestamo de bicicletas"
   ]
  },
  {
   "cell_type": "code",
   "execution_count": 1,
   "metadata": {},
   "outputs": [],
   "source": [
    "import warnings\n",
    "warnings.filterwarnings('ignore')"
   ]
  },
  {
   "cell_type": "code",
   "execution_count": 2,
   "metadata": {},
   "outputs": [],
   "source": [
    "# Importación de librerías\n",
    "%matplotlib inline\n",
    "import pandas as pd\n",
    "import numpy as np\n",
    "from sklearn.model_selection import cross_val_score\n",
    "from sklearn.linear_model import LinearRegression\n",
    "from sklearn.tree import DecisionTreeRegressor, export_graphviz"
   ]
  },
  {
   "cell_type": "code",
   "execution_count": 3,
   "metadata": {},
   "outputs": [
    {
     "data": {
      "text/html": [
       "<div>\n",
       "<style scoped>\n",
       "    .dataframe tbody tr th:only-of-type {\n",
       "        vertical-align: middle;\n",
       "    }\n",
       "\n",
       "    .dataframe tbody tr th {\n",
       "        vertical-align: top;\n",
       "    }\n",
       "\n",
       "    .dataframe thead th {\n",
       "        text-align: right;\n",
       "    }\n",
       "</style>\n",
       "<table border=\"1\" class=\"dataframe\">\n",
       "  <thead>\n",
       "    <tr style=\"text-align: right;\">\n",
       "      <th></th>\n",
       "      <th>season</th>\n",
       "      <th>holiday</th>\n",
       "      <th>workingday</th>\n",
       "      <th>weather</th>\n",
       "      <th>temp</th>\n",
       "      <th>atemp</th>\n",
       "      <th>humidity</th>\n",
       "      <th>windspeed</th>\n",
       "      <th>casual</th>\n",
       "      <th>registered</th>\n",
       "      <th>total</th>\n",
       "      <th>hour</th>\n",
       "    </tr>\n",
       "    <tr>\n",
       "      <th>datetime</th>\n",
       "      <th></th>\n",
       "      <th></th>\n",
       "      <th></th>\n",
       "      <th></th>\n",
       "      <th></th>\n",
       "      <th></th>\n",
       "      <th></th>\n",
       "      <th></th>\n",
       "      <th></th>\n",
       "      <th></th>\n",
       "      <th></th>\n",
       "      <th></th>\n",
       "    </tr>\n",
       "  </thead>\n",
       "  <tbody>\n",
       "    <tr>\n",
       "      <th>2011-01-01 00:00:00</th>\n",
       "      <td>1</td>\n",
       "      <td>0</td>\n",
       "      <td>0</td>\n",
       "      <td>1</td>\n",
       "      <td>9.84</td>\n",
       "      <td>14.395</td>\n",
       "      <td>81</td>\n",
       "      <td>0.0</td>\n",
       "      <td>3</td>\n",
       "      <td>13</td>\n",
       "      <td>16</td>\n",
       "      <td>0</td>\n",
       "    </tr>\n",
       "    <tr>\n",
       "      <th>2011-01-01 01:00:00</th>\n",
       "      <td>1</td>\n",
       "      <td>0</td>\n",
       "      <td>0</td>\n",
       "      <td>1</td>\n",
       "      <td>9.02</td>\n",
       "      <td>13.635</td>\n",
       "      <td>80</td>\n",
       "      <td>0.0</td>\n",
       "      <td>8</td>\n",
       "      <td>32</td>\n",
       "      <td>40</td>\n",
       "      <td>1</td>\n",
       "    </tr>\n",
       "    <tr>\n",
       "      <th>2011-01-01 02:00:00</th>\n",
       "      <td>1</td>\n",
       "      <td>0</td>\n",
       "      <td>0</td>\n",
       "      <td>1</td>\n",
       "      <td>9.02</td>\n",
       "      <td>13.635</td>\n",
       "      <td>80</td>\n",
       "      <td>0.0</td>\n",
       "      <td>5</td>\n",
       "      <td>27</td>\n",
       "      <td>32</td>\n",
       "      <td>2</td>\n",
       "    </tr>\n",
       "    <tr>\n",
       "      <th>2011-01-01 03:00:00</th>\n",
       "      <td>1</td>\n",
       "      <td>0</td>\n",
       "      <td>0</td>\n",
       "      <td>1</td>\n",
       "      <td>9.84</td>\n",
       "      <td>14.395</td>\n",
       "      <td>75</td>\n",
       "      <td>0.0</td>\n",
       "      <td>3</td>\n",
       "      <td>10</td>\n",
       "      <td>13</td>\n",
       "      <td>3</td>\n",
       "    </tr>\n",
       "    <tr>\n",
       "      <th>2011-01-01 04:00:00</th>\n",
       "      <td>1</td>\n",
       "      <td>0</td>\n",
       "      <td>0</td>\n",
       "      <td>1</td>\n",
       "      <td>9.84</td>\n",
       "      <td>14.395</td>\n",
       "      <td>75</td>\n",
       "      <td>0.0</td>\n",
       "      <td>0</td>\n",
       "      <td>1</td>\n",
       "      <td>1</td>\n",
       "      <td>4</td>\n",
       "    </tr>\n",
       "  </tbody>\n",
       "</table>\n",
       "</div>"
      ],
      "text/plain": [
       "                     season  holiday  workingday  weather  temp   atemp  \\\n",
       "datetime                                                                  \n",
       "2011-01-01 00:00:00       1        0           0        1  9.84  14.395   \n",
       "2011-01-01 01:00:00       1        0           0        1  9.02  13.635   \n",
       "2011-01-01 02:00:00       1        0           0        1  9.02  13.635   \n",
       "2011-01-01 03:00:00       1        0           0        1  9.84  14.395   \n",
       "2011-01-01 04:00:00       1        0           0        1  9.84  14.395   \n",
       "\n",
       "                     humidity  windspeed  casual  registered  total  hour  \n",
       "datetime                                                                   \n",
       "2011-01-01 00:00:00        81        0.0       3          13     16     0  \n",
       "2011-01-01 01:00:00        80        0.0       8          32     40     1  \n",
       "2011-01-01 02:00:00        80        0.0       5          27     32     2  \n",
       "2011-01-01 03:00:00        75        0.0       3          10     13     3  \n",
       "2011-01-01 04:00:00        75        0.0       0           1      1     4  "
      ]
     },
     "execution_count": 3,
     "metadata": {},
     "output_type": "execute_result"
    }
   ],
   "source": [
    "# Lectura de la información de archivo .csv\n",
    "bikes = pd.read_csv('https://raw.githubusercontent.com/albahnsen/MIAD_ML_and_NLP/main/datasets/bikeshare.csv', index_col='datetime', parse_dates=True)\n",
    "# Renombrar variable \"count\" a \"total\"\n",
    "bikes.rename(columns={'count':'total'}, inplace=True)\n",
    "# Crear la hora como una variable \n",
    "bikes['hour'] = bikes.index.hour\n",
    "# Visualización\n",
    "bikes.head()"
   ]
  },
  {
   "cell_type": "markdown",
   "metadata": {},
   "source": [
    "### Punto 1 - Análisis descriptivo\n",
    "\n",
    "Ejecute las celdas 1.1 y 1.2. A partir de los resultados realice un análisis descriptivo sobre las variables hour y workingday, escriba sus inferencias sobre los datos. Para complementar su análisis puede usar métricas como máximo, mínimo, percentiles entre otros."
   ]
  },
  {
   "cell_type": "code",
   "execution_count": 4,
   "metadata": {},
   "outputs": [
    {
     "name": "stdout",
     "output_type": "stream",
     "text": [
      "workingday\n",
      "0    188.506621\n",
      "1    193.011873\n",
      "Name: total, dtype: float64\n",
      "Tabla de frecuencia\n",
      "1    7412\n",
      "0    3474\n",
      "Name: workingday, dtype: int64\n",
      "usando describe por total y working day\n",
      "count    7412.000000\n",
      "mean      193.011873\n",
      "std       184.513659\n",
      "min         1.000000\n",
      "25%        41.000000\n",
      "50%       151.000000\n",
      "75%       277.000000\n",
      "max       977.000000\n",
      "Name: total, dtype: float64\n",
      "usando describe por total y working day\n",
      "count    3474.000000\n",
      "mean      188.506621\n",
      "std       173.724015\n",
      "min         1.000000\n",
      "25%        44.000000\n",
      "50%       128.000000\n",
      "75%       304.000000\n",
      "max       783.000000\n",
      "Name: total, dtype: float64\n"
     ]
    }
   ],
   "source": [
    "# Celda 1.1\n",
    "print(bikes.groupby('workingday').total.mean())\n",
    "print(\"Tabla de frecuencia\")\n",
    "print(bikes.workingday.value_counts())\n",
    "print(\"usando describe por total y working day\")\n",
    "print(bikes[bikes.workingday == 1].total.describe())\n",
    "print(\"usando describe por total y working day\")\n",
    "print(bikes[bikes.workingday == 0].total.describe())\n",
    "\n",
    "# Al observar el promedio del número de bicicletas rentadas comparando los días laborales con los días festivos la diferencia entre el \n",
    "# parece resultar baja.\n",
    "# realizando un zoom, se puede observar la frecuencia de datos observando más del doble de observaciones para días labores comparados\n",
    "# con no laborales, lo que parece indicar que el uso de la bicicleta es extendido independientemente de si es día laboral o no. Se pueden\n",
    "# observar cuartiles similares entre estas clases con dispersiones que comparten esta similitud."
   ]
  },
  {
   "cell_type": "code",
   "execution_count": 5,
   "metadata": {
    "scrolled": true
   },
   "outputs": [
    {
     "name": "stdout",
     "output_type": "stream",
     "text": [
      "hour\n",
      "0      55.138462\n",
      "1      33.859031\n",
      "2      22.899554\n",
      "3      11.757506\n",
      "4       6.407240\n",
      "5      19.767699\n",
      "6      76.259341\n",
      "7     213.116484\n",
      "8     362.769231\n",
      "9     221.780220\n",
      "10    175.092308\n",
      "11    210.674725\n",
      "12    256.508772\n",
      "13    257.787281\n",
      "14    243.442982\n",
      "15    254.298246\n",
      "16    316.372807\n",
      "17    468.765351\n",
      "18    430.859649\n",
      "19    315.278509\n",
      "20    228.517544\n",
      "21    173.370614\n",
      "22    133.576754\n",
      "23     89.508772\n",
      "Name: total, dtype: float64\n"
     ]
    }
   ],
   "source": [
    "# Celda 1.2\n",
    "print(bikes.groupby('hour').total.mean())\n",
    "\n",
    "# Para la variable hour basta con la instrucción group by que nos permite observar las horas pico y valle de renta de bicicletas\n",
    "# se puede observar un alto volumen de rentas promedio en las horas de salida de trabajo (5,6) Pm y la hora de entrada 8 Am, por otra\n",
    "# parte se puede observar que el numero de rentas promedio aumenta de 2 a 5 Pm lo que podría reforzar la hipotésis que los usuarios pueden\n",
    "# retornar al hogar usando la bicicleta como medio de trasnporte.\n",
    "# otro apsecto importante a resaltar es que las 24 horas del día presentan rentas de bicicletas, auqnue como es de esperar, las horas\n",
    "# de la madrugada presentas los niveles más bajos de renta promedio."
   ]
  },
  {
   "cell_type": "markdown",
   "metadata": {},
   "source": [
    "### Punto 2 - Análisis de gráficos\n",
    "\n",
    "Primero ejecute la celda 2.1 y asegúrese de comprender el código y el resultado. Luego, en cada una de celdas 2.2 y 2.3 escriba un código que genere una gráfica de las rentas promedio por hora cuando la variable \"workingday\" es igual a 0 e igual a 1, respectivamente. Analice y escriba sus hallazgos."
   ]
  },
  {
   "cell_type": "code",
   "execution_count": 23,
   "metadata": {},
   "outputs": [
    {
     "data": {
      "text/plain": [
       "<AxesSubplot:xlabel='hour'>"
      ]
     },
     "execution_count": 23,
     "metadata": {},
     "output_type": "execute_result"
    },
    {
     "data": {
      "image/png": "[encoded data removed]",
      "text/plain": [
       "<Figure size 432x288 with 1 Axes>"
      ]
     },
     "metadata": {
      "needs_background": "light"
     },
     "output_type": "display_data"
    }
   ],
   "source": [
    "# Celda 2.1 - rentas promedio para cada valor de la variable \"hour\"\n",
    "bikes.groupby('hour').total.mean().plot()"
   ]
  },
  {
   "cell_type": "code",
   "execution_count": 6,
   "metadata": {},
   "outputs": [
    {
     "data": {
      "text/plain": [
       "<AxesSubplot:title={'center':'Día laboral'}, xlabel='hour'>"
      ]
     },
     "execution_count": 6,
     "metadata": {},
     "output_type": "execute_result"
    },
    {
     "data": {
      "image/png": "[encoded data removed]",
      "text/plain": [
       "<Figure size 432x288 with 1 Axes>"
      ]
     },
     "metadata": {
      "needs_background": "light"
     },
     "output_type": "display_data"
    }
   ],
   "source": [
    "# Celda 2.2 - \"workingday\"=0 escriba su código y hallazgos \n",
    "bikes[bikes.workingday==1].groupby('hour').total.mean().plot(title=\"Día laboral\")\n",
    "\n",
    "# como se puede observar los días laborales presentan mayor volumen de rentas promedio en las horas de entrada y salida del trabajo\n"
   ]
  },
  {
   "cell_type": "code",
   "execution_count": 7,
   "metadata": {},
   "outputs": [
    {
     "data": {
      "text/plain": [
       "<AxesSubplot:title={'center':'Fin de Semana o Festivo'}, xlabel='hour'>"
      ]
     },
     "execution_count": 7,
     "metadata": {},
     "output_type": "execute_result"
    },
    {
     "data": {
      "image/png": "[encoded data removed]",
      "text/plain": [
       "<Figure size 432x288 with 1 Axes>"
      ]
     },
     "metadata": {
      "needs_background": "light"
     },
     "output_type": "display_data"
    }
   ],
   "source": [
    "# Celda 2.3 - \"workingday\"=1 escriba su código y hallazgos \n",
    "bikes[bikes.workingday==0].groupby('hour').total.mean().plot(title=\"Fin de Semana o Festivo\")\n",
    "\n",
    "# para los fines de semana el volumen promedio de rentas parece incrementarse a medida que avanza la mañana, emézando a disminuir al \n",
    "# medio día. "
   ]
  },
  {
   "cell_type": "markdown",
   "metadata": {},
   "source": [
    "### Punto 3 - Regresión lineal\n",
    "En la celda 3 ajuste un modelo de regresión lineal a todo el conjunto de datos, utilizando \"total\" como variable de respuesta y \"hour\" y \"workingday\" como las únicas variables predictoras. Luego, imprima los coeficientes e interprételos. ¿Cuáles son las limitaciones de la regresión lineal en este caso?"
   ]
  },
  {
   "cell_type": "code",
   "execution_count": 40,
   "metadata": {},
   "outputs": [
    {
     "name": "stdout",
     "output_type": "stream",
     "text": [
      "coef_horas:  10.49206282289374\n",
      "coef_workingday:  4.072486272904374\n",
      "R2:  0.16059115011434855\n",
      "MSE:  27541.255252498402\n"
     ]
    }
   ],
   "source": [
    "# Celda 3\n",
    "from sklearn.metrics import mean_squared_error\n",
    "X = bikes[[\"hour\",\"workingday\"]]\n",
    "y = bikes.total\n",
    "lr_model = LinearRegression()\n",
    "lr_model.fit(X,y)\n",
    "lr_pred = lr_model.predict(X)\n",
    "lr_MSE = mean_squared_error(y_true=y, y_pred=lr_pred)\n",
    "print(\"coef_horas: \",lr_model.coef_[0])\n",
    "print(\"coef_workingday: \",lr_model.coef_[1])\n",
    "print(\"R2: \",lr_model.score(X,y))\n",
    "print(\"MSE: \", lr_MSE)\n",
    "\n",
    "# Los coeficientes obtenidos nos indican que por cada incremento de una hora en promedio se rentarán 10 bicicletas más, por otra parte si\n",
    "#  es un día laboral se rentarán 4 bicicletas más en promedio.\n",
    "# Las limitaciones del enfoque lineal se hacen evidentes al observar la relación entre las rentas promedio por hora, ya que esta demuestra\n",
    "# un comportamieto no lineal más ajustable a un polinomio de orden 3, lo cual implicará un costo alto entre el trade off de sesgo varianza\n",
    "# al presentar alto sesgo, esto se puede evidenciar con más detalle al observar la bondad de ajuste del modelo.\n",
    "\n"
   ]
  },
  {
   "cell_type": "markdown",
   "metadata": {},
   "source": [
    "### Punto 4 - Árbol de decisión manual\n",
    "En la celda 4 cree un árbol de decisiones para pronosticar la variable \"total\" iterando **manualmente** sobre las variables \"hour\" y  \"workingday\". El árbol debe tener al menos 6 nodos finales."
   ]
  },
  {
   "cell_type": "code",
   "execution_count": 39,
   "metadata": {},
   "outputs": [
    {
     "name": "stdout",
     "output_type": "stream",
     "text": [
      "10886\n",
      "[ 94.  71.  53. ... 184. 138.  89.]\n",
      "11549.81728826015\n"
     ]
    }
   ],
   "source": [
    "# Celda 4\n",
    "# definiendo funciones, ahora el criterio de selección no es el Gini sino la varianza daod a que es un caso de regresión.\n",
    "from statistics import variance\n",
    "def vari(y):\n",
    "    if y.shape[0] == 0:\n",
    "        return 0\n",
    "    else:\n",
    "        return variance(y)\n",
    "\n",
    "########################################################################################\n",
    "# en esta función calcularemos la impureza de la varianza\n",
    "def var_impurity(X_col, y, split):\n",
    "    \n",
    "    filter_l = X_col < split\n",
    "    y_l = y.loc[filter_l]\n",
    "    y_r = y.loc[~filter_l]\n",
    "    \n",
    "    n_l = y_l.shape[0]\n",
    "    n_r = y_r.shape[0]\n",
    "    \n",
    "    var_y = vari(y)\n",
    "    var_l = vari(y_l)\n",
    "    var_r = vari(y_r)\n",
    "    \n",
    "    var_impurity_ = var_y - (n_l / (n_l + n_r) * var_l + n_r / (n_l + n_r) * var_r)\n",
    "    \n",
    "    return var_impurity_\n",
    "\n",
    "#########################################################################################\n",
    "\n",
    "def best_split(X, y, num_pct=10):\n",
    "    \n",
    "    features = range(X.shape[1])\n",
    "    \n",
    "    best_split = [0, 0, 0]  # j, split, gain\n",
    "    \n",
    "    # Para todas las varibles \n",
    "    for j in features:\n",
    "        \n",
    "        splits = np.percentile(X.iloc[:, j], np.arange(0, 100, 100.0 / (num_pct+1)).tolist())\n",
    "        splits = np.unique(splits)[1:]\n",
    "        \n",
    "        # Para cada partición\n",
    "        for split in splits:\n",
    "            gain = var_impurity(X.iloc[:, j], y, split)\n",
    "                        \n",
    "            if gain > best_split[2]:\n",
    "                best_split = [j, split, gain]\n",
    "    \n",
    "    return best_split\n",
    "\n",
    "##################################################################################################\n",
    "\n",
    "def tree_grow(X, y, level=0, min_gain=0.001, max_depth=None, num_pct=10):\n",
    "    \n",
    "    # Si solo es una observación\n",
    "    if X.shape[0] == 1:\n",
    "        tree = dict(y_pred=y.iloc[:1].values[0], level=level, split=-1, n_samples=1, gain=0) # ya no necesitamos probabilidades\n",
    "        return tree\n",
    "    \n",
    "    # Calcular la mejor división\n",
    "    j, split, gain = best_split(X, y, num_pct)\n",
    "    \n",
    "    # Guardar el árbol y estimar la predicción, en este caso la predicción será la media del split con menor impureza\n",
    "    y_pred = int(y.mean()) \n",
    "    #y_prob = (y.sum() + 1.0) / (y.shape[0] + 2.0)  # Corrección Laplace no aplíca en este caso\n",
    "    \n",
    "    tree = dict(y_pred=y_pred, level=level, split=-1, n_samples=X.shape[0], gain=gain)\n",
    "    # Revisar el criterio de parada \n",
    "    if gain < min_gain:\n",
    "        return tree\n",
    "    if max_depth is not None:\n",
    "        if level >= max_depth:\n",
    "            return tree   \n",
    "    \n",
    "    # Continuar creando la partición\n",
    "    filter_l = X.iloc[:, j] < split\n",
    "    X_l, y_l = X.loc[filter_l], y.loc[filter_l]\n",
    "    X_r, y_r = X.loc[~filter_l], y.loc[~filter_l]\n",
    "    tree['split'] = [j, split]\n",
    "\n",
    "    # Siguiente iteración para cada partición\n",
    "    \n",
    "    tree['sl'] = tree_grow(X_l, y_l, level + 1, min_gain=min_gain, max_depth=max_depth, num_pct=num_pct)\n",
    "    tree['sr'] = tree_grow(X_r, y_r, level + 1, min_gain=min_gain, max_depth=max_depth, num_pct=num_pct)\n",
    "    \n",
    "    return tree\n",
    "\n",
    "########################################################################################################\n",
    "\n",
    "def tree_predict(X, tree):\n",
    "    \n",
    "    predicted = np.ones(X.shape[0])\n",
    "\n",
    "    # Revisar si es el nodo final\n",
    "    if tree['split'] == -1:\n",
    "        # if not proba:\n",
    "        predicted = predicted * tree['y_pred']\n",
    "        # else:\n",
    "        #     predicted = predicted * tree['y_prob'] no es necesario para este caso\n",
    "            \n",
    "    else:\n",
    "        \n",
    "        j, split = tree['split']\n",
    "        filter_l = (X.iloc[:, j] < split)\n",
    "        X_l = X.loc[filter_l]\n",
    "        X_r = X.loc[~filter_l]\n",
    "\n",
    "        if X_l.shape[0] == 0:  # Si el nodo izquierdo está vacio solo continua con el derecho \n",
    "            predicted[~filter_l] = tree_predict(X_r, tree['sr'])\n",
    "        elif X_r.shape[0] == 0:  #  Si el nodo derecho está vacio solo continua con el izquierdo\n",
    "            predicted[filter_l] = tree_predict(X_l, tree['sl'])\n",
    "        else:\n",
    "            predicted[filter_l] = tree_predict(X_l, tree['sl'])\n",
    "            predicted[~filter_l] = tree_predict(X_r, tree['sr'])\n",
    "\n",
    "    return predicted\n",
    "\n",
    "#####################################################################################################\n",
    "\n",
    "# Calculando árbol con las variables hour y workingday como input y total como output\n",
    "\n",
    "tree = tree_grow(bikes[[\"hour\",\"workingday\"]], bikes.total, level=0, min_gain=0.001, max_depth=6, num_pct=10)\n",
    "preds = tree_predict(bikes[[\"hour\",\"workingday\"]], tree)\n",
    "print(len(preds))\n",
    "print(preds)\n",
    "print(\"MSE: \", mean_squared_error(y_true=bikes.total,y_pred=preds))\n",
    "\n",
    "# al obsercar el MSE de ambos modelos, se puede evidenciar una notoria reducción de este a realizar el calculo con el arbol de regresión, \n",
    "# pasando de un MSE de 27541 a uno de 11549, lo que implica una reducción de más de la mitad.\n",
    "\n"
   ]
  },
  {
   "cell_type": "markdown",
   "metadata": {},
   "source": [
    "### Punto 5 - Árbol de decisión con librería\n",
    "En la celda 5 entrene un árbol de decisiones con la **librería sklearn**, usando las variables predictoras \"hour\" y \"workingday\" y calibre los parámetros que considere conveniente para obtener un mejor desempeño. Comente el desempeño del modelo con alguna métrica de desempeño de modelos de regresión y compare desempeño con el modelo del punto 3."
   ]
  },
  {
   "cell_type": "code",
   "execution_count": 48,
   "metadata": {},
   "outputs": [
    {
     "name": "stdout",
     "output_type": "stream",
     "text": [
      "MSE:  11334.816493059323\n"
     ]
    }
   ],
   "source": [
    "# Celda 5\n",
    "\n",
    "DTR = DecisionTreeRegressor(max_depth=8, random_state=0)\n",
    "DTR.fit(bikes[[\"hour\",\"workingday\"]], bikes.total)\n",
    "DTR_pred = DTR.predict(bikes[[\"hour\",\"workingday\"]])\n",
    "print(\"MSE: \",mean_squared_error(y_true=bikes.total,y_pred=DTR_pred))\n",
    "\n",
    "# nuevamente podemos observar que los resultados son muy similares al modelo 4 y por consiguiente eldesempeño del MSE comparado con el modelo\n",
    "# punto 3 es significativamente mejor, pudiendo observar nuevamente una reducción de más de la mitad del MSE."
   ]
  },
  {
   "cell_type": "markdown",
   "metadata": {},
   "source": [
    "## Parte B - Métodos de ensamblajes\n",
    "En esta parte del taller se usará el conjunto de datos de Popularidad de Noticias Online. El objetivo es predecir si la notica es popular o no, la populridad esta dada por la cantidad de reacciones en redes sociales. Para más detalles puede visitar el sigueinte enlace: [datos](https://archive.ics.uci.edu/ml/datasets/online+news+popularity)."
   ]
  },
  {
   "cell_type": "markdown",
   "metadata": {},
   "source": [
    "### Datos popularidad de noticias"
   ]
  },
  {
   "cell_type": "code",
   "execution_count": 49,
   "metadata": {},
   "outputs": [
    {
     "data": {
      "text/html": [
       "<div>\n",
       "<style scoped>\n",
       "    .dataframe tbody tr th:only-of-type {\n",
       "        vertical-align: middle;\n",
       "    }\n",
       "\n",
       "    .dataframe tbody tr th {\n",
       "        vertical-align: top;\n",
       "    }\n",
       "\n",
       "    .dataframe thead th {\n",
       "        text-align: right;\n",
       "    }\n",
       "</style>\n",
       "<table border=\"1\" class=\"dataframe\">\n",
       "  <thead>\n",
       "    <tr style=\"text-align: right;\">\n",
       "      <th></th>\n",
       "      <th>url</th>\n",
       "      <th>timedelta</th>\n",
       "      <th>n_tokens_title</th>\n",
       "      <th>n_tokens_content</th>\n",
       "      <th>n_unique_tokens</th>\n",
       "      <th>n_non_stop_words</th>\n",
       "      <th>n_non_stop_unique_tokens</th>\n",
       "      <th>num_hrefs</th>\n",
       "      <th>num_self_hrefs</th>\n",
       "      <th>num_imgs</th>\n",
       "      <th>...</th>\n",
       "      <th>min_positive_polarity</th>\n",
       "      <th>max_positive_polarity</th>\n",
       "      <th>avg_negative_polarity</th>\n",
       "      <th>min_negative_polarity</th>\n",
       "      <th>max_negative_polarity</th>\n",
       "      <th>title_subjectivity</th>\n",
       "      <th>title_sentiment_polarity</th>\n",
       "      <th>abs_title_subjectivity</th>\n",
       "      <th>abs_title_sentiment_polarity</th>\n",
       "      <th>Popular</th>\n",
       "    </tr>\n",
       "  </thead>\n",
       "  <tbody>\n",
       "    <tr>\n",
       "      <th>0</th>\n",
       "      <td>http://mashable.com/2014/12/10/cia-torture-rep...</td>\n",
       "      <td>28.0</td>\n",
       "      <td>9.0</td>\n",
       "      <td>188.0</td>\n",
       "      <td>0.732620</td>\n",
       "      <td>1.0</td>\n",
       "      <td>0.844262</td>\n",
       "      <td>5.0</td>\n",
       "      <td>1.0</td>\n",
       "      <td>1.0</td>\n",
       "      <td>...</td>\n",
       "      <td>0.200000</td>\n",
       "      <td>0.80</td>\n",
       "      <td>-0.487500</td>\n",
       "      <td>-0.60</td>\n",
       "      <td>-0.250000</td>\n",
       "      <td>0.9</td>\n",
       "      <td>0.8</td>\n",
       "      <td>0.4</td>\n",
       "      <td>0.8</td>\n",
       "      <td>1</td>\n",
       "    </tr>\n",
       "    <tr>\n",
       "      <th>1</th>\n",
       "      <td>http://mashable.com/2013/10/18/bitlock-kicksta...</td>\n",
       "      <td>447.0</td>\n",
       "      <td>7.0</td>\n",
       "      <td>297.0</td>\n",
       "      <td>0.653199</td>\n",
       "      <td>1.0</td>\n",
       "      <td>0.815789</td>\n",
       "      <td>9.0</td>\n",
       "      <td>4.0</td>\n",
       "      <td>1.0</td>\n",
       "      <td>...</td>\n",
       "      <td>0.160000</td>\n",
       "      <td>0.50</td>\n",
       "      <td>-0.135340</td>\n",
       "      <td>-0.40</td>\n",
       "      <td>-0.050000</td>\n",
       "      <td>0.1</td>\n",
       "      <td>-0.1</td>\n",
       "      <td>0.4</td>\n",
       "      <td>0.1</td>\n",
       "      <td>0</td>\n",
       "    </tr>\n",
       "    <tr>\n",
       "      <th>2</th>\n",
       "      <td>http://mashable.com/2013/07/24/google-glass-po...</td>\n",
       "      <td>533.0</td>\n",
       "      <td>11.0</td>\n",
       "      <td>181.0</td>\n",
       "      <td>0.660377</td>\n",
       "      <td>1.0</td>\n",
       "      <td>0.775701</td>\n",
       "      <td>4.0</td>\n",
       "      <td>3.0</td>\n",
       "      <td>1.0</td>\n",
       "      <td>...</td>\n",
       "      <td>0.136364</td>\n",
       "      <td>1.00</td>\n",
       "      <td>0.000000</td>\n",
       "      <td>0.00</td>\n",
       "      <td>0.000000</td>\n",
       "      <td>0.3</td>\n",
       "      <td>1.0</td>\n",
       "      <td>0.2</td>\n",
       "      <td>1.0</td>\n",
       "      <td>0</td>\n",
       "    </tr>\n",
       "    <tr>\n",
       "      <th>3</th>\n",
       "      <td>http://mashable.com/2013/11/21/these-are-the-m...</td>\n",
       "      <td>413.0</td>\n",
       "      <td>12.0</td>\n",
       "      <td>781.0</td>\n",
       "      <td>0.497409</td>\n",
       "      <td>1.0</td>\n",
       "      <td>0.677350</td>\n",
       "      <td>10.0</td>\n",
       "      <td>3.0</td>\n",
       "      <td>1.0</td>\n",
       "      <td>...</td>\n",
       "      <td>0.100000</td>\n",
       "      <td>1.00</td>\n",
       "      <td>-0.195701</td>\n",
       "      <td>-0.40</td>\n",
       "      <td>-0.071429</td>\n",
       "      <td>0.0</td>\n",
       "      <td>0.0</td>\n",
       "      <td>0.5</td>\n",
       "      <td>0.0</td>\n",
       "      <td>0</td>\n",
       "    </tr>\n",
       "    <tr>\n",
       "      <th>4</th>\n",
       "      <td>http://mashable.com/2014/02/11/parking-ticket-...</td>\n",
       "      <td>331.0</td>\n",
       "      <td>8.0</td>\n",
       "      <td>177.0</td>\n",
       "      <td>0.685714</td>\n",
       "      <td>1.0</td>\n",
       "      <td>0.830357</td>\n",
       "      <td>3.0</td>\n",
       "      <td>2.0</td>\n",
       "      <td>1.0</td>\n",
       "      <td>...</td>\n",
       "      <td>0.100000</td>\n",
       "      <td>0.55</td>\n",
       "      <td>-0.175000</td>\n",
       "      <td>-0.25</td>\n",
       "      <td>-0.100000</td>\n",
       "      <td>0.0</td>\n",
       "      <td>0.0</td>\n",
       "      <td>0.5</td>\n",
       "      <td>0.0</td>\n",
       "      <td>0</td>\n",
       "    </tr>\n",
       "  </tbody>\n",
       "</table>\n",
       "<p>5 rows × 61 columns</p>\n",
       "</div>"
      ],
      "text/plain": [
       "                                                 url  timedelta  \\\n",
       "0  http://mashable.com/2014/12/10/cia-torture-rep...       28.0   \n",
       "1  http://mashable.com/2013/10/18/bitlock-kicksta...      447.0   \n",
       "2  http://mashable.com/2013/07/24/google-glass-po...      533.0   \n",
       "3  http://mashable.com/2013/11/21/these-are-the-m...      413.0   \n",
       "4  http://mashable.com/2014/02/11/parking-ticket-...      331.0   \n",
       "\n",
       "   n_tokens_title  n_tokens_content  n_unique_tokens  n_non_stop_words  \\\n",
       "0             9.0             188.0         0.732620               1.0   \n",
       "1             7.0             297.0         0.653199               1.0   \n",
       "2            11.0             181.0         0.660377               1.0   \n",
       "3            12.0             781.0         0.497409               1.0   \n",
       "4             8.0             177.0         0.685714               1.0   \n",
       "\n",
       "   n_non_stop_unique_tokens  num_hrefs  num_self_hrefs  num_imgs  ...  \\\n",
       "0                  0.844262        5.0             1.0       1.0  ...   \n",
       "1                  0.815789        9.0             4.0       1.0  ...   \n",
       "2                  0.775701        4.0             3.0       1.0  ...   \n",
       "3                  0.677350       10.0             3.0       1.0  ...   \n",
       "4                  0.830357        3.0             2.0       1.0  ...   \n",
       "\n",
       "   min_positive_polarity  max_positive_polarity  avg_negative_polarity  \\\n",
       "0               0.200000                   0.80              -0.487500   \n",
       "1               0.160000                   0.50              -0.135340   \n",
       "2               0.136364                   1.00               0.000000   \n",
       "3               0.100000                   1.00              -0.195701   \n",
       "4               0.100000                   0.55              -0.175000   \n",
       "\n",
       "   min_negative_polarity  max_negative_polarity  title_subjectivity  \\\n",
       "0                  -0.60              -0.250000                 0.9   \n",
       "1                  -0.40              -0.050000                 0.1   \n",
       "2                   0.00               0.000000                 0.3   \n",
       "3                  -0.40              -0.071429                 0.0   \n",
       "4                  -0.25              -0.100000                 0.0   \n",
       "\n",
       "   title_sentiment_polarity  abs_title_subjectivity  \\\n",
       "0                       0.8                     0.4   \n",
       "1                      -0.1                     0.4   \n",
       "2                       1.0                     0.2   \n",
       "3                       0.0                     0.5   \n",
       "4                       0.0                     0.5   \n",
       "\n",
       "   abs_title_sentiment_polarity  Popular  \n",
       "0                           0.8        1  \n",
       "1                           0.1        0  \n",
       "2                           1.0        0  \n",
       "3                           0.0        0  \n",
       "4                           0.0        0  \n",
       "\n",
       "[5 rows x 61 columns]"
      ]
     },
     "execution_count": 49,
     "metadata": {},
     "output_type": "execute_result"
    }
   ],
   "source": [
    "# Lectura de la información de archivo .csv\n",
    "df = pd.read_csv('https://raw.githubusercontent.com/albahnsen/MIAD_ML_and_NLP/main/datasets/mashable.csv', index_col=0)\n",
    "df.head()"
   ]
  },
  {
   "cell_type": "code",
   "execution_count": 50,
   "metadata": {},
   "outputs": [
    {
     "data": {
      "text/plain": [
       "0.5"
      ]
     },
     "execution_count": 50,
     "metadata": {},
     "output_type": "execute_result"
    }
   ],
   "source": [
    "# Definición variable de interes y variables predictoras\n",
    "X = df.drop(['url', 'Popular'], axis=1)\n",
    "y = df['Popular']\n",
    "y.mean()"
   ]
  },
  {
   "cell_type": "code",
   "execution_count": 54,
   "metadata": {},
   "outputs": [],
   "source": [
    "# División de la muestra en set de entrenamiento y prueba\n",
    "from sklearn.model_selection import train_test_split\n",
    "X_train, X_test, y_train, y_test = train_test_split(X, y, random_state=1)"
   ]
  },
  {
   "cell_type": "markdown",
   "metadata": {},
   "source": [
    "### Punto 6 - Árbol de decisión y regresión logística\n",
    "En la celda 6 construya un árbol de decisión y una regresión logística. Para el árbol calibre al menos un parámetro y evalúe el desempeño de cada modelo usando las métricas de Accuracy y F1-Score."
   ]
  },
  {
   "cell_type": "code",
   "execution_count": 96,
   "metadata": {},
   "outputs": [
    {
     "name": "stdout",
     "output_type": "stream",
     "text": [
      "1    0.5\n",
      "0    0.5\n",
      "Name: Popular, dtype: float64\n",
      "avg lor_reg accuracy:  0.6193333333333333\n",
      "avg log_reg f1_score:  0.6191153485732932\n",
      "avg DT accuracy  0.5493333333333333\n",
      "avg DT f1_score  0.5593954357181327\n",
      "**************************************************************************\n",
      "después de optimización\n",
      "avg DT accuracy  0.6466666666666667\n",
      "avg DT f1_score  0.6614362993813206\n"
     ]
    },
    {
     "data": {
      "image/png": "[encoded data removed]",
      "text/plain": [
       "<Figure size 864x432 with 1 Axes>"
      ]
     },
     "metadata": {
      "needs_background": "light"
     },
     "output_type": "display_data"
    }
   ],
   "source": [
    "# Celda 6\n",
    "from sklearn.linear_model import LogisticRegression\n",
    "from sklearn.tree import DecisionTreeClassifier\n",
    "from sklearn import metrics\n",
    "import matplotlib.pyplot as plt\n",
    "# validando el balanceo de clases en el juego de datos completo\n",
    "print(y.value_counts(normalize=True))\n",
    "  \n",
    "log_reg = LogisticRegression()\n",
    "log_reg.fit(X_train, y_train)\n",
    "log_reg_scores_1 = cross_val_score(log_reg, X=X_test, y= y_test, cv=10,n_jobs=-1, scoring=\"accuracy\")\n",
    "print(\"avg lor_reg accuracy: \", np.mean(log_reg_scores_1))\n",
    "log_reg_scores_2 = cross_val_score(log_reg, X=X_test, y= y_test, cv=10,n_jobs=-1, scoring=\"f1\")\n",
    "print(\"avg log_reg f1_score: \", np.mean(log_reg_scores_2)) \n",
    "\n",
    "DTR_2 = DecisionTreeClassifier(random_state=1)\n",
    "DTR_2.fit(X_train, y_train)\n",
    "DTR_2_sores_1 = cross_val_score(DTR_2, X_test, y_test, cv=10, n_jobs=-1, scoring=\"accuracy\")\n",
    "print(\"avg DT accuracy \", np.mean(DTR_2_sores_1))\n",
    "DTR_2_sores_2 = cross_val_score(DTR_2, X_test, y_test, cv=10, n_jobs=-1, scoring=\"f1\")\n",
    "print(\"avg DT f1_score \",np.mean(DTR_2_sores_2) )\n",
    "\n",
    "# optimizando max_depth\n",
    "\n",
    "list_accuracy = []\n",
    "list_f1 = []\n",
    "for i in range(1,21):\n",
    "    DTR_2 = DecisionTreeClassifier(max_depth=i, random_state=1)\n",
    "    list_accuracy.append(np.mean(cross_val_score(DTR_2, X_test, y_test, cv=10, n_jobs=-1, scoring=\"accuracy\")))\n",
    "    list_f1.append(np.mean(cross_val_score(DTR_2, X_test, y_test, cv=10, n_jobs=-1, scoring=\"f1\")))\n",
    "\n",
    "plt.figure(figsize=(12,6))\n",
    "plt.plot(range(1,21), list_accuracy)\n",
    "plt.xlabel(\"Max Depth\")\n",
    "plt.ylabel(\"accuracy\")\n",
    "_=plt.xticks(range(1,21))\n",
    "\n",
    "DTR_2 = DecisionTreeClassifier(max_depth=1, random_state=1)\n",
    "DTR_2.fit(X_train, y_train)\n",
    "print(\"**************************************************************************\")\n",
    "print(\"después de optimización\")\n",
    "DTR_2_sores_1 = cross_val_score(DTR_2, X_test, y_test, cv=10, n_jobs=-1, scoring=\"accuracy\")\n",
    "print(\"avg DT accuracy \", np.mean(DTR_2_sores_1))\n",
    "DTR_2_sores_2 = cross_val_score(DTR_2, X_test, y_test, cv=10, n_jobs=-1, scoring=\"f1\")\n",
    "print(\"avg DT f1_score \",np.mean(DTR_2_sores_2) )\n",
    "\n",
    "\n"
   ]
  },
  {
   "cell_type": "markdown",
   "metadata": {},
   "source": [
    "### Punto 7 - Votación Mayoritaria\n",
    "En la celda 7 elabore un esamble con la metodología de **Votación mayoritaria** compuesto por 300 muestras bagged para cada uno de los siguientes escenarios:\n",
    "\n",
    "-100 árboles de decisión donde max_depth = None\\\n",
    "-100 árboles de decisión donde max_depth = 2\\\n",
    "-100 regresiones logísticas\n",
    "\n",
    "Evalúe los modelos utilizando las métricas de Accuracy y F1-Score."
   ]
  },
  {
   "cell_type": "code",
   "execution_count": 92,
   "metadata": {},
   "outputs": [
    {
     "name": "stdout",
     "output_type": "stream",
     "text": [
      "avg DT_none accuracy  0.6546666666666666\n",
      "avg DT_none f1_score  0.6656860769837463\n",
      "*************************************************************************************\n",
      "avg DT_md2 accuracy  0.656\n",
      "avg DT_md2 f1_score  0.6726829457913082\n",
      "***************************************************************************************\n",
      "avg log_reg_1 accuracy  0.612\n",
      "avg log_reg_1 f1_score  0.6104356901995418\n"
     ]
    }
   ],
   "source": [
    "# Celda 7\n",
    "from sklearn.ensemble import BaggingClassifier\n",
    "\n",
    "DTR_none = BaggingClassifier(base_estimator=DecisionTreeClassifier(max_depth=None), n_estimators=100, bootstrap=True,\n",
    "                        random_state=42, n_jobs=-1, oob_score=True, max_samples=300)\n",
    "DTR_none.fit(X_train, y_train)\n",
    "DTR_none_sores_1 = cross_val_score(DTR_none, X_test, y_test, cv=10, n_jobs=-1, scoring=\"accuracy\")\n",
    "print(\"avg DT_none accuracy \", np.mean(DTR_none_sores_1))\n",
    "DTR_none_sores_2 = cross_val_score(DTR_none, X_test, y_test, cv=10, n_jobs=-1, scoring=\"f1\")\n",
    "print(\"avg DT_none f1_score \",np.mean(DTR_none_sores_2) )\n",
    "\n",
    "print(\"*************************************************************************************\")\n",
    "\n",
    "DTR_md2 = BaggingClassifier(base_estimator=DecisionTreeClassifier(max_depth=2), n_estimators=100, bootstrap=True,\n",
    "                        random_state=42, n_jobs=-1, oob_score=True, max_samples=300)\n",
    "DTR_md2.fit(X_train, y_train)\n",
    "DTR_md2_sores_1 = cross_val_score(DTR_md2, X_test, y_test, cv=10, n_jobs=-1, scoring=\"accuracy\")\n",
    "print(\"avg DT_md2 accuracy \", np.mean(DTR_md2_sores_1))\n",
    "DTR_md2_sores_2 = cross_val_score(DTR_md2, X_test, y_test, cv=10, n_jobs=-1, scoring=\"f1\")\n",
    "print(\"avg DT_md2 f1_score \",np.mean(DTR_md2_sores_2) )\n",
    "\n",
    "print(\"***************************************************************************************\")\n",
    "\n",
    "log_reg_1 = BaggingClassifier(base_estimator=LogisticRegression(), n_estimators=100, bootstrap=True,\n",
    "                        random_state=42, n_jobs=-1, oob_score=True, max_samples=300)\n",
    "log_reg_1.fit(X_train, y_train)\n",
    "log_reg_1_sores_1 = cross_val_score(log_reg_1, X_test, y_test, cv=10, n_jobs=-1, scoring=\"accuracy\")\n",
    "print(\"avg log_reg_1 accuracy \", np.mean(log_reg_1_sores_1))\n",
    "log_reg_1_sores_2 = cross_val_score(log_reg_1, X_test, y_test, cv=10, n_jobs=-1, scoring=\"f1\")\n",
    "print(\"avg log_reg_1 f1_score \",np.mean(log_reg_1_sores_2) )"
   ]
  },
  {
   "cell_type": "markdown",
   "metadata": {},
   "source": [
    "### Punto 8 - Votación Ponderada\n",
    "En la celda 8 elabore un ensamble con la metodología de **Votación ponderada** compuesto por 300 muestras bagged para los mismos tres escenarios del punto 7. Evalúe los modelos utilizando las métricas de Accuracy y F1-Score"
   ]
  },
  {
   "cell_type": "code",
   "execution_count": 98,
   "metadata": {},
   "outputs": [
    {
     "name": "stdout",
     "output_type": "stream",
     "text": [
      "DTR_none votación ponderada accuracy  0.6633333333333333\n",
      "DTR_none votación ponderada f1 score  0.6631087391594397\n",
      "***************************************************************************************\n",
      "DTR_md2 votación ponderada accuracy  0.6466666666666666\n",
      "DTR_md2 votación ponderada f1 score  0.6324549237170597\n",
      "*******************************************************************************************\n",
      "log_reg_1 votación ponderada accuracy  0.622\n",
      "log_reg_1 votación ponderada f1 score  0.6171505739365294\n"
     ]
    }
   ],
   "source": [
    "# Celda 8\n",
    "# en este caso podemos reutilizar los clasificadores elaborados en el punto anterior, solo resta aplicar el metodo de votación ponderada.\n",
    "\n",
    "errors = np.zeros(DTR_none.n_estimators)\n",
    "DTR_none_pred_all_ = np.zeros((X_test.shape[0], DTR_none.n_estimators))\n",
    "\n",
    "for i in range(DTR_none.n_estimators):\n",
    "    oob_sample = ~DTR_none.estimators_samples_[i]\n",
    "    DTR_none_pred_ = DTR_none.estimators_[i].predict(X_train.values[oob_sample])\n",
    "    errors[i] = metrics.accuracy_score(DTR_none_pred_, y_train.values[oob_sample])\n",
    "    DTR_none_pred_all_[:, i] = DTR_none.estimators_[i].predict(X_test)\n",
    "    \n",
    "alpha = (1 - errors) / (1 - errors).sum()\n",
    "DTR_none_pred = (np.sum(DTR_none_pred_all_ * alpha, axis=1) >= 0.5).astype(np.int)\n",
    "\n",
    "print(\"DTR_none votación ponderada accuracy \",metrics.accuracy_score(DTR_none_pred, y_test))\n",
    "print(\"DTR_none votación ponderada f1 score \",metrics.f1_score(DTR_none_pred, y_test))\n",
    "\n",
    "print(\"***************************************************************************************\")\n",
    "\n",
    "errors = np.zeros(DTR_md2.n_estimators)\n",
    "DTR_md2_pred_all_ = np.zeros((X_test.shape[0], DTR_md2.n_estimators))\n",
    "\n",
    "for i in range(DTR_md2.n_estimators):\n",
    "    oob_sample = ~DTR_md2.estimators_samples_[i]\n",
    "    DTR_md2_pred_ = DTR_md2.estimators_[i].predict(X_train.values[oob_sample])\n",
    "    errors[i] = metrics.accuracy_score(DTR_md2_pred_, y_train.values[oob_sample])\n",
    "    DTR_md2_pred_all_[:, i] = DTR_md2.estimators_[i].predict(X_test)\n",
    "    \n",
    "alpha = (1 - errors) / (1 - errors).sum()\n",
    "DTR_md2_pred = (np.sum(DTR_md2_pred_all_ * alpha, axis=1) >= 0.5).astype(np.int)\n",
    "\n",
    "print(\"DTR_md2 votación ponderada accuracy \",metrics.accuracy_score(DTR_md2_pred, y_test))\n",
    "print(\"DTR_md2 votación ponderada f1 score \",metrics.f1_score(DTR_md2_pred, y_test))\n",
    "\n",
    "print(\"*******************************************************************************************\")\n",
    "\n",
    "errors = np.zeros(log_reg_1.n_estimators)\n",
    "log_reg_1_pred_all_ = np.zeros((X_test.shape[0], log_reg_1.n_estimators))\n",
    "\n",
    "for i in range(log_reg_1.n_estimators):\n",
    "    oob_sample = ~log_reg_1.estimators_samples_[i]\n",
    "    log_reg_1_pred_ = log_reg_1.estimators_[i].predict(X_train.values[oob_sample])\n",
    "    errors[i] = metrics.accuracy_score(log_reg_1_pred_, y_train.values[oob_sample])\n",
    "    log_reg_1_pred_all_[:, i] = log_reg_1.estimators_[i].predict(X_test)\n",
    "    \n",
    "alpha = (1 - errors) / (1 - errors).sum()\n",
    "log_reg_1_pred = (np.sum(log_reg_1_pred_all_ * alpha, axis=1) >= 0.5).astype(np.int)\n",
    "\n",
    "print(\"log_reg_1 votación ponderada accuracy \",metrics.accuracy_score(log_reg_1_pred, y_test))\n",
    "print(\"log_reg_1 votación ponderada f1 score \",metrics.f1_score(log_reg_1_pred, y_test))\n"
   ]
  },
  {
   "cell_type": "markdown",
   "metadata": {},
   "source": [
    "### Punto 9 - Comparación y análisis de resultados\n",
    "En la celda 9 comente sobre los resultados obtenidos con las metodologías usadas en los puntos 7 y 8, compare los resultados y enuncie posibles ventajas o desventajas de cada una de ellas."
   ]
  },
  {
   "cell_type": "code",
   "execution_count": null,
   "metadata": {},
   "outputs": [],
   "source": [
    "# Celda 9\n",
    "\n",
    "# en términos del f1_score, que resulta ser la media armonica del recall y precision, o una forma de combinar ambos indicadores, podemos\n",
    "# observar que el mejor modelo # resulta ser el modelo con votación mayoritaria o hard voting, auqnue en realidad los resultados parecen\n",
    "# estar muy parejos ya que el acurracy para este modelo resulta ser ligeramente menor que el modelo por votación ponderada o soft voting\n",
    "# a costa de un ligero deterioro del f1_score.\n",
    "# como se pudo observar al inicio en la tabla de frecuencia las clases estan perfectamente balanceadas, y esto puede incidir en los\n",
    "# resultados tan similares, aunuqe a manera de profundazación podemos advertir ventajas o deficiencias de los métodos.\n",
    "\n",
    "# en la practica los metodos difieren en un concepto fundamental, hard voting usa la moda de la clase en cuestion para determinar la predicción, mientras soft voting\n",
    "# el peso y la probabilidad de la case para calcular la predicción, en este caso se usa el concepoto de out of bag oob para añadir un \n",
    "# elemento de evalución, si el tamañao de muestra es lo suficientemente grande, se espera que la probabilidad al realizar bagging\n",
    "# de tener observaciones oob = 36.8%, dado lo anterior, el método soft con oob permite realizar las estimaciones sobre un juego de\n",
    "# datos invisible para el clasificador, lo que permitira un juego de datos extra para validar el modelo, aparte del conocido test set.add\n",
    "\n",
    "# en este caso dado que las clases son balanceadas los resultados son similares y por aleatoridad, la probabilidad de seleccionar las clases\n",
    "# con el mismo balance es alta, por lo que en este sentido las ventajas de un método sobre otra parecen no tener relativa significancia.\n"
   ]
  }
 ],
 "metadata": {
  "kernelspec": {
   "display_name": "Python 3",
   "language": "python",
   "name": "python3"
  },
  "language_info": {
   "codemirror_mode": {
    "name": "ipython",
    "version": 3
   },
   "file_extension": ".py",
   "mimetype": "text/x-python",
   "name": "python",
   "nbconvert_exporter": "python",
   "pygments_lexer": "ipython3",
   "version": "3.8.3"
  }
 },
 "nbformat": 4,
 "nbformat_minor": 4
}
