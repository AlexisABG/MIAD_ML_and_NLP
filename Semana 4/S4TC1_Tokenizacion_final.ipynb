{
 "cells": [
  {
   "cell_type": "markdown",
   "source": "![image info](https://raw.githubusercontent.com/albahnsen/MIAD_ML_and_NLP/main/images/banner_1.png)",
   "metadata": {
    "cell_id": "0a57705a-ce42-4b90-aa44-a5aa51c2cba3",
    "deepnote_cell_type": "markdown",
    "deepnote_cell_height": 121.6875
   }
  },
  {
   "cell_type": "markdown",
   "source": "# Taller: Tokenización de textos  \n\nEn este taller podrán poner en práctica sus conocimientos sobre preprocesamiento de texto (tokenización). El taller está constituido por 5 puntos, en los cuales deberan seguir las intrucciones de cada numeral para su desarrollo.",
   "metadata": {
    "cell_id": "00001-a6257c27-ca4b-48a0-9351-f05ca98ff567",
    "deepnote_cell_type": "markdown",
    "deepnote_cell_height": 239.5625
   }
  },
  {
   "cell_type": "markdown",
   "source": "## Datos detección de toxicidad en comentarios\n\nEn este taller se usará el conjunto de datos de detección de toxicidad en comentarios de la base de datos de Kaggle. Cada observación es un comentario que tiene como variable objetivo (target) la probabilidad de ser un comentario tóxico. El objetivo es predecir la toxicidad de cada comentario. Para más detalles pueden visitar el siguiente enlace: [datos](https://www.kaggle.com/c/jigsaw-unintended-bias-in-toxicity-classification/data).",
   "metadata": {
    "cell_id": "00002-29868d9c-63dd-4437-a914-519507ce37f7",
    "deepnote_cell_type": "markdown",
    "deepnote_cell_height": 237.953125
   }
  },
  {
   "cell_type": "code",
   "metadata": {
    "cell_id": "00003-ea9dad65-c9cb-49c0-a83a-ab7b82680cd8",
    "deepnote_to_be_reexecuted": false,
    "source_hash": "17e3dbca",
    "execution_start": 1651342263985,
    "execution_millis": 2,
    "deepnote_cell_type": "code",
    "deepnote_cell_height": 99
   },
   "source": "import warnings\nwarnings.filterwarnings('ignore')",
   "execution_count": null,
   "outputs": []
  },
  {
   "cell_type": "code",
   "metadata": {
    "cell_id": "00004-9ed8d157-4887-450f-b254-14ff641d993d",
    "deepnote_to_be_reexecuted": false,
    "source_hash": "2c8b4357",
    "execution_start": 1651342266961,
    "execution_millis": 103395,
    "deepnote_cell_type": "code",
    "deepnote_cell_height": 935
   },
   "source": "# Importación librerías\nimport pandas as pd\nimport numpy as np\nimport scipy as sp\nfrom sklearn.ensemble import RandomForestRegressor\nfrom sklearn.linear_model import LinearRegression\nimport xgboost\nfrom sklearn.model_selection import train_test_split, cross_val_score\nfrom sklearn.feature_extraction.text import CountVectorizer, TfidfVectorizer\nfrom nltk.corpus import stopwords\nimport nltk\nnltk.download()\nfrom sklearn import metrics\n%matplotlib inline",
   "execution_count": null,
   "outputs": [
    {
     "name": "stdout",
     "text": "NLTK Downloader\n---------------------------------------------------------------------------\n    d) Download   l) List    u) Update   c) Config   h) Help   q) Quit\n---------------------------------------------------------------------------\n\nDownload which package (l=list; x=cancel)?\n\n---------------------------------------------------------------------------\n    d) Download   l) List    u) Update   c) Config   h) Help   q) Quit\n---------------------------------------------------------------------------\n\nPackages:\n  [ ] abc................. Australian Broadcasting Commission 2006\n  [ ] alpino.............. Alpino Dutch Treebank\n  [ ] averaged_perceptron_tagger Averaged Perceptron Tagger\n  [ ] averaged_perceptron_tagger_ru Averaged Perceptron Tagger (Russian)\n  [ ] basque_grammars..... Grammars for Basque\n  [ ] biocreative_ppi..... BioCreAtIvE (Critical Assessment of Information\n                           Extraction Systems in Biology)\n  [ ] bllip_wsj_no_aux.... BLLIP Parser: WSJ Model\n  [ ] book_grammars....... Grammars from NLTK Book\n  [ ] brown............... Brown Corpus\n  [ ] brown_tei........... Brown Corpus (TEI XML Version)\n  [ ] cess_cat............ CESS-CAT Treebank\n  [ ] cess_esp............ CESS-ESP Treebank\n  [ ] chat80.............. Chat-80 Data Files\n  [ ] city_database....... City Database\n  [ ] cmudict............. The Carnegie Mellon Pronouncing Dictionary (0.6)\n  [ ] comparative_sentences Comparative Sentence Dataset\n  [ ] comtrans............ ComTrans Corpus Sample\n  [ ] conll2000........... CONLL 2000 Chunking Corpus\n  [ ] conll2002........... CONLL 2002 Named Entity Recognition Corpus\n  [ ] conll2007........... Dependency Treebanks from CoNLL 2007 (Catalan\n                           and Basque Subset)\n  [ ] crubadan............ Crubadan Corpus\n  [ ] dependency_treebank. Dependency Parsed Treebank\n  [ ] dolch............... Dolch Word List\n  [ ] europarl_raw........ Sample European Parliament Proceedings Parallel\n                           Corpus\n  [ ] extended_omw........ Extended Open Multilingual WordNet\n  [ ] floresta............ Portuguese Treebank\n  [ ] framenet_v15........ FrameNet 1.5\n  [ ] framenet_v17........ FrameNet 1.7\n  [ ] gazetteers.......... Gazeteer Lists\n  [ ] genesis............. Genesis Corpus\n  [ ] gutenberg........... Project Gutenberg Selections\n  [ ] ieer................ NIST IE-ER DATA SAMPLE\n  [ ] inaugural........... C-Span Inaugural Address Corpus\n  [ ] indian.............. Indian Language POS-Tagged Corpus\n  [ ] jeita............... JEITA Public Morphologically Tagged Corpus (in\n                           ChaSen format)\n  [ ] kimmo............... PC-KIMMO Data Files\n  [ ] knbc................ KNB Corpus (Annotated blog corpus)\n  [ ] large_grammars...... Large context-free and feature-based grammars\n                           for parser comparison\n  [ ] lin_thesaurus....... Lin's Dependency Thesaurus\n  [ ] mac_morpho.......... MAC-MORPHO: Brazilian Portuguese news text with\n                           part-of-speech tags\n  [ ] machado............. Machado de Assis -- Obra Completa\n  [ ] masc_tagged......... MASC Tagged Corpus\n  [ ] maxent_ne_chunker... ACE Named Entity Chunker (Maximum entropy)\n  [ ] maxent_treebank_pos_tagger Treebank Part of Speech Tagger (Maximum entropy)\n  [ ] moses_sample........ Moses Sample Models\n  [ ] movie_reviews....... Sentiment Polarity Dataset Version 2.0\n  [ ] mte_teip5........... MULTEXT-East 1984 annotated corpus 4.0\n  [ ] mwa_ppdb............ The monolingual word aligner (Sultan et al.\n                           2015) subset of the Paraphrase Database.\n  [ ] names............... Names Corpus, Version 1.3 (1994-03-29)\n  [ ] nombank.1.0......... NomBank Corpus 1.0\n  [ ] nonbreaking_prefixes Non-Breaking Prefixes (Moses Decoder)\n  [ ] nps_chat............ NPS Chat\n  [ ] omw-1.4............. Open Multilingual Wordnet\n  [ ] omw................. Open Multilingual Wordnet\n  [ ] opinion_lexicon..... Opinion Lexicon\n  [ ] panlex_swadesh...... PanLex Swadesh Corpora\n  [ ] paradigms........... Paradigm Corpus\n  [ ] pe08................ Cross-Framework and Cross-Domain Parser\n                           Evaluation Shared Task\n  [ ] perluniprops........ perluniprops: Index of Unicode Version 7.0.0\n                           character properties in Perl\n  [ ] pil................. The Patient Information Leaflet (PIL) Corpus\n  [ ] pl196x.............. Polish language of the XX century sixties\n  [ ] porter_test......... Porter Stemmer Test Files\n  [ ] ppattach............ Prepositional Phrase Attachment Corpus\n  [ ] problem_reports..... Problem Report Corpus\n  [ ] product_reviews_1... Product Reviews (5 Products)\n  [ ] product_reviews_2... Product Reviews (9 Products)\n  [ ] propbank............ Proposition Bank Corpus 1.0\n  [ ] pros_cons........... Pros and Cons\n  [ ] ptb................. Penn Treebank\n  [ ] punkt............... Punkt Tokenizer Models\n  [ ] qc.................. Experimental Data for Question Classification\n  [ ] reuters............. The Reuters-21578 benchmark corpus, ApteMod\n                           version\n  [ ] rslp................ RSLP Stemmer (Removedor de Sufixos da Lingua\n                           Portuguesa)\n  [ ] rte................. PASCAL RTE Challenges 1, 2, and 3\n  [ ] sample_grammars..... Sample Grammars\n  [ ] semcor.............. SemCor 3.0\n  [ ] senseval............ SENSEVAL 2 Corpus: Sense Tagged Text\n  [ ] sentence_polarity... Sentence Polarity Dataset v1.0\n  [ ] sentiwordnet........ SentiWordNet\n  [ ] shakespeare......... Shakespeare XML Corpus Sample\n  [ ] sinica_treebank..... Sinica Treebank Corpus Sample\n  [ ] smultron............ SMULTRON Corpus Sample\n  [ ] snowball_data....... Snowball Data\n  [ ] spanish_grammars.... Grammars for Spanish\n  [ ] state_union......... C-Span State of the Union Address Corpus\n  [*] stopwords........... Stopwords Corpus\n  [ ] subjectivity........ Subjectivity Dataset v1.0\n  [ ] swadesh............. Swadesh Wordlists\n  [ ] switchboard......... Switchboard Corpus Sample\n  [ ] tagsets............. Help on Tagsets\n  [ ] timit............... TIMIT Corpus Sample\n  [ ] toolbox............. Toolbox Sample Files\n  [ ] treebank............ Penn Treebank Sample\n  [ ] twitter_samples..... Twitter Samples\n  [ ] udhr2............... Universal Declaration of Human Rights Corpus\n                           (Unicode Version)\n  [ ] udhr................ Universal Declaration of Human Rights Corpus\n  [ ] unicode_samples..... Unicode Samples\n  [ ] universal_tagset.... Mappings to the Universal Part-of-Speech Tagset\n  [ ] universal_treebanks_v20 Universal Treebanks Version 2.0\n  [ ] vader_lexicon....... VADER Sentiment Lexicon\n  [ ] verbnet3............ VerbNet Lexicon, Version 3.3\n  [ ] verbnet............. VerbNet Lexicon, Version 2.1\n  [ ] webtext............. Web Text Corpus\n  [ ] wmt15_eval.......... Evaluation data from WMT15\n  [ ] word2vec_sample..... Word2Vec Sample\n  [ ] wordnet2021......... Open English Wordnet 2021\n  [ ] wordnet31........... Wordnet 3.1\n  [ ] wordnet............. WordNet\n  [ ] wordnet_ic.......... WordNet-InfoContent\n  [ ] words............... Word Lists\n  [ ] ycoe................ York-Toronto-Helsinki Parsed Corpus of Old\n                           English Prose\n\nCollections:\n  [P] all-corpora......... All the corpora\n  [P] all-nltk............ All packages available on nltk_data gh-pages\n                           branch\n  [P] all................. All packages\n  [P] book................ Everything used in the NLTK Book\n  [P] popular............. Popular packages\n  [ ] tests............... Packages for running tests\n  [ ] third-party......... Third-party data packages\n\n([*] marks installed packages; [P] marks partially installed collections)\n\n---------------------------------------------------------------------------\n    d) Download   l) List    u) Update   c) Config   h) Help   q) Quit\n---------------------------------------------------------------------------\nCommand 'stopwords' unrecognized\n\n---------------------------------------------------------------------------\n    d) Download   l) List    u) Update   c) Config   h) Help   q) Quit\n---------------------------------------------------------------------------\n\n---------------------------------------------------------------------------\n    d) Download   l) List    u) Update   c) Config   h) Help   q) Quit\n---------------------------------------------------------------------------\n\nPackages:\n  [ ] abc................. Australian Broadcasting Commission 2006\n  [ ] alpino.............. Alpino Dutch Treebank\n  [ ] averaged_perceptron_tagger Averaged Perceptron Tagger\n  [ ] averaged_perceptron_tagger_ru Averaged Perceptron Tagger (Russian)\n  [ ] basque_grammars..... Grammars for Basque\n  [ ] biocreative_ppi..... BioCreAtIvE (Critical Assessment of Information\n                           Extraction Systems in Biology)\n  [ ] bllip_wsj_no_aux.... BLLIP Parser: WSJ Model\n  [ ] book_grammars....... Grammars from NLTK Book\n  [ ] brown............... Brown Corpus\n  [ ] brown_tei........... Brown Corpus (TEI XML Version)\n  [ ] cess_cat............ CESS-CAT Treebank\n  [ ] cess_esp............ CESS-ESP Treebank\n  [ ] chat80.............. Chat-80 Data Files\n  [ ] city_database....... City Database\n  [ ] cmudict............. The Carnegie Mellon Pronouncing Dictionary (0.6)\n  [ ] comparative_sentences Comparative Sentence Dataset\n  [ ] comtrans............ ComTrans Corpus Sample\n  [ ] conll2000........... CONLL 2000 Chunking Corpus\n  [ ] conll2002........... CONLL 2002 Named Entity Recognition Corpus\n  [ ] conll2007........... Dependency Treebanks from CoNLL 2007 (Catalan\n                           and Basque Subset)\n  [ ] crubadan............ Crubadan Corpus\n  [ ] dependency_treebank. Dependency Parsed Treebank\n  [ ] dolch............... Dolch Word List\n  [ ] europarl_raw........ Sample European Parliament Proceedings Parallel\n                           Corpus\n  [ ] extended_omw........ Extended Open Multilingual WordNet\n  [ ] floresta............ Portuguese Treebank\n  [ ] framenet_v15........ FrameNet 1.5\n  [ ] framenet_v17........ FrameNet 1.7\n  [ ] gazetteers.......... Gazeteer Lists\n  [ ] genesis............. Genesis Corpus\n  [ ] gutenberg........... Project Gutenberg Selections\n  [ ] ieer................ NIST IE-ER DATA SAMPLE\n  [ ] inaugural........... C-Span Inaugural Address Corpus\n  [ ] indian.............. Indian Language POS-Tagged Corpus\n  [ ] jeita............... JEITA Public Morphologically Tagged Corpus (in\n                           ChaSen format)\n  [ ] kimmo............... PC-KIMMO Data Files\n  [ ] knbc................ KNB Corpus (Annotated blog corpus)\n  [ ] large_grammars...... Large context-free and feature-based grammars\n                           for parser comparison\n  [ ] lin_thesaurus....... Lin's Dependency Thesaurus\n  [ ] mac_morpho.......... MAC-MORPHO: Brazilian Portuguese news text with\n                           part-of-speech tags\n  [ ] machado............. Machado de Assis -- Obra Completa\n  [ ] masc_tagged......... MASC Tagged Corpus\n  [ ] maxent_ne_chunker... ACE Named Entity Chunker (Maximum entropy)\n  [ ] maxent_treebank_pos_tagger Treebank Part of Speech Tagger (Maximum entropy)\n  [ ] moses_sample........ Moses Sample Models\n  [ ] movie_reviews....... Sentiment Polarity Dataset Version 2.0\n  [ ] mte_teip5........... MULTEXT-East 1984 annotated corpus 4.0\n  [ ] mwa_ppdb............ The monolingual word aligner (Sultan et al.\n                           2015) subset of the Paraphrase Database.\n  [ ] names............... Names Corpus, Version 1.3 (1994-03-29)\n  [ ] nombank.1.0......... NomBank Corpus 1.0\n  [ ] nonbreaking_prefixes Non-Breaking Prefixes (Moses Decoder)\n  [ ] nps_chat............ NPS Chat\n  [ ] omw-1.4............. Open Multilingual Wordnet\n  [ ] omw................. Open Multilingual Wordnet\n  [ ] opinion_lexicon..... Opinion Lexicon\n  [ ] panlex_swadesh...... PanLex Swadesh Corpora\n  [ ] paradigms........... Paradigm Corpus\n  [ ] pe08................ Cross-Framework and Cross-Domain Parser\n                           Evaluation Shared Task\n  [ ] perluniprops........ perluniprops: Index of Unicode Version 7.0.0\n                           character properties in Perl\n  [ ] pil................. The Patient Information Leaflet (PIL) Corpus\n  [ ] pl196x.............. Polish language of the XX century sixties\n  [ ] porter_test......... Porter Stemmer Test Files\n  [ ] ppattach............ Prepositional Phrase Attachment Corpus\n  [ ] problem_reports..... Problem Report Corpus\n  [ ] product_reviews_1... Product Reviews (5 Products)\n  [ ] product_reviews_2... Product Reviews (9 Products)\n  [ ] propbank............ Proposition Bank Corpus 1.0\n  [ ] pros_cons........... Pros and Cons\n  [ ] ptb................. Penn Treebank\n  [ ] punkt............... Punkt Tokenizer Models\n  [ ] qc.................. Experimental Data for Question Classification\n  [ ] reuters............. The Reuters-21578 benchmark corpus, ApteMod\n                           version\n  [ ] rslp................ RSLP Stemmer (Removedor de Sufixos da Lingua\n                           Portuguesa)\n  [ ] rte................. PASCAL RTE Challenges 1, 2, and 3\n  [ ] sample_grammars..... Sample Grammars\n  [ ] semcor.............. SemCor 3.0\n  [ ] senseval............ SENSEVAL 2 Corpus: Sense Tagged Text\n  [ ] sentence_polarity... Sentence Polarity Dataset v1.0\n  [ ] sentiwordnet........ SentiWordNet\n  [ ] shakespeare......... Shakespeare XML Corpus Sample\n  [ ] sinica_treebank..... Sinica Treebank Corpus Sample\n  [ ] smultron............ SMULTRON Corpus Sample\n  [ ] snowball_data....... Snowball Data\n  [ ] spanish_grammars.... Grammars for Spanish\n  [ ] state_union......... C-Span State of the Union Address Corpus\n  [*] stopwords........... Stopwords Corpus\n  [ ] subjectivity........ Subjectivity Dataset v1.0\n  [ ] swadesh............. Swadesh Wordlists\n  [ ] switchboard......... Switchboard Corpus Sample\n  [ ] tagsets............. Help on Tagsets\n  [ ] timit............... TIMIT Corpus Sample\n  [ ] toolbox............. Toolbox Sample Files\n  [ ] treebank............ Penn Treebank Sample\n  [ ] twitter_samples..... Twitter Samples\n  [ ] udhr2............... Universal Declaration of Human Rights Corpus\n                           (Unicode Version)\n  [ ] udhr................ Universal Declaration of Human Rights Corpus\n  [ ] unicode_samples..... Unicode Samples\n  [ ] universal_tagset.... Mappings to the Universal Part-of-Speech Tagset\n  [ ] universal_treebanks_v20 Universal Treebanks Version 2.0\n  [ ] vader_lexicon....... VADER Sentiment Lexicon\n  [ ] verbnet3............ VerbNet Lexicon, Version 3.3\n  [ ] verbnet............. VerbNet Lexicon, Version 2.1\n  [ ] webtext............. Web Text Corpus\n  [ ] wmt15_eval.......... Evaluation data from WMT15\n  [ ] word2vec_sample..... Word2Vec Sample\n  [ ] wordnet2021......... Open English Wordnet 2021\n  [ ] wordnet31........... Wordnet 3.1\n  [ ] wordnet............. WordNet\n  [ ] wordnet_ic.......... WordNet-InfoContent\n  [ ] words............... Word Lists\n  [ ] ycoe................ York-Toronto-Helsinki Parsed Corpus of Old\n                           English Prose\n\nCollections:\n  [P] all-corpora......... All the corpora\n  [P] all-nltk............ All packages available on nltk_data gh-pages\n                           branch\n  [P] all................. All packages\n  [P] book................ Everything used in the NLTK Book\n  [P] popular............. Popular packages\n  [ ] tests............... Packages for running tests\n  [ ] third-party......... Third-party data packages\n\n([*] marks installed packages; [P] marks partially installed collections)\n\n---------------------------------------------------------------------------\n    d) Download   l) List    u) Update   c) Config   h) Help   q) Quit\n---------------------------------------------------------------------------\n\nPackages:\n  [ ] abc................. Australian Broadcasting Commission 2006\n  [ ] alpino.............. Alpino Dutch Treebank\n  [ ] averaged_perceptron_tagger Averaged Perceptron Tagger\n  [ ] averaged_perceptron_tagger_ru Averaged Perceptron Tagger (Russian)\n  [ ] basque_grammars..... Grammars for Basque\n  [ ] biocreative_ppi..... BioCreAtIvE (Critical Assessment of Information\n                           Extraction Systems in Biology)\n  [ ] bllip_wsj_no_aux.... BLLIP Parser: WSJ Model\n  [ ] book_grammars....... Grammars from NLTK Book\n  [ ] brown............... Brown Corpus\n  [ ] brown_tei........... Brown Corpus (TEI XML Version)\n  [ ] cess_cat............ CESS-CAT Treebank\n  [ ] cess_esp............ CESS-ESP Treebank\n  [ ] chat80.............. Chat-80 Data Files\n  [ ] city_database....... City Database\n  [ ] cmudict............. The Carnegie Mellon Pronouncing Dictionary (0.6)\n  [ ] comparative_sentences Comparative Sentence Dataset\n  [ ] comtrans............ ComTrans Corpus Sample\n  [ ] conll2000........... CONLL 2000 Chunking Corpus\n  [ ] conll2002........... CONLL 2002 Named Entity Recognition Corpus\n  [ ] conll2007........... Dependency Treebanks from CoNLL 2007 (Catalan\n                           and Basque Subset)\n  [ ] crubadan............ Crubadan Corpus\n  [ ] dependency_treebank. Dependency Parsed Treebank\n  [ ] dolch............... Dolch Word List\n  [ ] europarl_raw........ Sample European Parliament Proceedings Parallel\n                           Corpus\n  [ ] extended_omw........ Extended Open Multilingual WordNet\n  [ ] floresta............ Portuguese Treebank\n  [ ] framenet_v15........ FrameNet 1.5\n  [ ] framenet_v17........ FrameNet 1.7\n  [ ] gazetteers.......... Gazeteer Lists\n  [ ] genesis............. Genesis Corpus\n  [ ] gutenberg........... Project Gutenberg Selections\n  [ ] ieer................ NIST IE-ER DATA SAMPLE\n  [ ] inaugural........... C-Span Inaugural Address Corpus\n  [ ] indian.............. Indian Language POS-Tagged Corpus\n  [ ] jeita............... JEITA Public Morphologically Tagged Corpus (in\n                           ChaSen format)\n  [ ] kimmo............... PC-KIMMO Data Files\n  [ ] knbc................ KNB Corpus (Annotated blog corpus)\n  [ ] large_grammars...... Large context-free and feature-based grammars\n                           for parser comparison\n  [ ] lin_thesaurus....... Lin's Dependency Thesaurus\n  [ ] mac_morpho.......... MAC-MORPHO: Brazilian Portuguese news text with\n                           part-of-speech tags\n  [ ] machado............. Machado de Assis -- Obra Completa\n  [ ] masc_tagged......... MASC Tagged Corpus\n  [ ] maxent_ne_chunker... ACE Named Entity Chunker (Maximum entropy)\n  [ ] maxent_treebank_pos_tagger Treebank Part of Speech Tagger (Maximum entropy)\n  [ ] moses_sample........ Moses Sample Models\n  [ ] movie_reviews....... Sentiment Polarity Dataset Version 2.0\n  [ ] mte_teip5........... MULTEXT-East 1984 annotated corpus 4.0\n  [ ] mwa_ppdb............ The monolingual word aligner (Sultan et al.\n                           2015) subset of the Paraphrase Database.\n  [ ] names............... Names Corpus, Version 1.3 (1994-03-29)\n  [ ] nombank.1.0......... NomBank Corpus 1.0\n  [ ] nonbreaking_prefixes Non-Breaking Prefixes (Moses Decoder)\n  [ ] nps_chat............ NPS Chat\n  [ ] omw-1.4............. Open Multilingual Wordnet\n  [ ] omw................. Open Multilingual Wordnet\n  [ ] opinion_lexicon..... Opinion Lexicon\n  [ ] panlex_swadesh...... PanLex Swadesh Corpora\n  [ ] paradigms........... Paradigm Corpus\n  [ ] pe08................ Cross-Framework and Cross-Domain Parser\n                           Evaluation Shared Task\n  [ ] perluniprops........ perluniprops: Index of Unicode Version 7.0.0\n                           character properties in Perl\n  [ ] pil................. The Patient Information Leaflet (PIL) Corpus\n  [ ] pl196x.............. Polish language of the XX century sixties\n  [ ] porter_test......... Porter Stemmer Test Files\n  [ ] ppattach............ Prepositional Phrase Attachment Corpus\n  [ ] problem_reports..... Problem Report Corpus\n  [ ] product_reviews_1... Product Reviews (5 Products)\n  [ ] product_reviews_2... Product Reviews (9 Products)\n  [ ] propbank............ Proposition Bank Corpus 1.0\n  [ ] pros_cons........... Pros and Cons\n  [ ] ptb................. Penn Treebank\n  [ ] punkt............... Punkt Tokenizer Models\n  [ ] qc.................. Experimental Data for Question Classification\n  [ ] reuters............. The Reuters-21578 benchmark corpus, ApteMod\n                           version\n  [ ] rslp................ RSLP Stemmer (Removedor de Sufixos da Lingua\n                           Portuguesa)\n  [ ] rte................. PASCAL RTE Challenges 1, 2, and 3\n  [ ] sample_grammars..... Sample Grammars\n  [ ] semcor.............. SemCor 3.0\n  [ ] senseval............ SENSEVAL 2 Corpus: Sense Tagged Text\n  [ ] sentence_polarity... Sentence Polarity Dataset v1.0\n  [ ] sentiwordnet........ SentiWordNet\n  [ ] shakespeare......... Shakespeare XML Corpus Sample\n  [ ] sinica_treebank..... Sinica Treebank Corpus Sample\n  [ ] smultron............ SMULTRON Corpus Sample\n  [ ] snowball_data....... Snowball Data\n  [ ] spanish_grammars.... Grammars for Spanish\n  [ ] state_union......... C-Span State of the Union Address Corpus\n  [*] stopwords........... Stopwords Corpus\n  [ ] subjectivity........ Subjectivity Dataset v1.0\n  [ ] swadesh............. Swadesh Wordlists\n  [ ] switchboard......... Switchboard Corpus Sample\n  [ ] tagsets............. Help on Tagsets\n  [ ] timit............... TIMIT Corpus Sample\n  [ ] toolbox............. Toolbox Sample Files\n  [ ] treebank............ Penn Treebank Sample\n  [ ] twitter_samples..... Twitter Samples\n  [ ] udhr2............... Universal Declaration of Human Rights Corpus\n                           (Unicode Version)\n  [ ] udhr................ Universal Declaration of Human Rights Corpus\n  [ ] unicode_samples..... Unicode Samples\n  [ ] universal_tagset.... Mappings to the Universal Part-of-Speech Tagset\n  [ ] universal_treebanks_v20 Universal Treebanks Version 2.0\n  [ ] vader_lexicon....... VADER Sentiment Lexicon\n  [ ] verbnet3............ VerbNet Lexicon, Version 3.3\n  [ ] verbnet............. VerbNet Lexicon, Version 2.1\n  [ ] webtext............. Web Text Corpus\n  [ ] wmt15_eval.......... Evaluation data from WMT15\n  [ ] word2vec_sample..... Word2Vec Sample\n  [ ] wordnet2021......... Open English Wordnet 2021\n  [ ] wordnet31........... Wordnet 3.1\n  [ ] wordnet............. WordNet\n  [ ] wordnet_ic.......... WordNet-InfoContent\n  [ ] words............... Word Lists\n  [ ] ycoe................ York-Toronto-Helsinki Parsed Corpus of Old\n                           English Prose\n\nCollections:\n  [P] all-corpora......... All the corpora\n  [P] all-nltk............ All packages available on nltk_data gh-pages\n                           branch\n  [P] all................. All packages\n  [P] book................ Everything used in the NLTK Book\n  [P] popular............. Popular packages\n  [ ] tests............... Packages for running tests\n  [ ] third-party......... Third-party data packages\n\n([*] marks installed packages; [P] marks partially installed collections)\n\n---------------------------------------------------------------------------\n    d) Download   l) List    u) Update   c) Config   h) Help   q) Quit\n---------------------------------------------------------------------------\n",
     "output_type": "stream"
    }
   ]
  },
  {
   "cell_type": "code",
   "metadata": {
    "cell_id": "00005-d3b3774c-1dcd-4149-9fad-4cbb2b266851",
    "deepnote_to_be_reexecuted": false,
    "source_hash": "661285de",
    "execution_start": 1651342373280,
    "execution_millis": 6674,
    "deepnote_cell_type": "code",
    "deepnote_cell_height": 449
   },
   "source": "# Carga de datos de archivos .csv\ndf = pd.read_csv('https://raw.githubusercontent.com/albahnsen/MIAD_ML_and_NLP/main/datasets/Toxicity.zip')\ndf = df[['id','comment_text', 'target']]\ndf.head()",
   "execution_count": null,
   "outputs": [
    {
     "output_type": "execute_result",
     "execution_count": 4,
     "data": {
      "application/vnd.deepnote.dataframe.v3+json": {
       "column_count": 3,
       "row_count": 5,
       "columns": [
        {
         "name": "id",
         "dtype": "int64",
         "stats": {
          "unique_count": 5,
          "nan_count": 0,
          "min": "551008",
          "max": "6101457",
          "histogram": [
           {
            "bin_start": 551008,
            "bin_end": 1106052.9,
            "count": 3
           },
           {
            "bin_start": 1106052.9,
            "bin_end": 1661097.8,
            "count": 0
           },
           {
            "bin_start": 1661097.8,
            "bin_end": 2216142.7,
            "count": 0
           },
           {
            "bin_start": 2216142.7,
            "bin_end": 2771187.6,
            "count": 0
           },
           {
            "bin_start": 2771187.6,
            "bin_end": 3326232.5,
            "count": 0
           },
           {
            "bin_start": 3326232.5,
            "bin_end": 3881277.4000000004,
            "count": 0
           },
           {
            "bin_start": 3881277.4000000004,
            "bin_end": 4436322.300000001,
            "count": 0
           },
           {
            "bin_start": 4436322.300000001,
            "bin_end": 4991367.2,
            "count": 0
           },
           {
            "bin_start": 4991367.2,
            "bin_end": 5546412.100000001,
            "count": 1
           },
           {
            "bin_start": 5546412.100000001,
            "bin_end": 6101457,
            "count": 1
           }
          ]
         }
        },
        {
         "name": "comment_text",
         "dtype": "object",
         "stats": {
          "unique_count": 5,
          "nan_count": 0,
          "categories": [
           {
            "name": "What are you talking about? What group do Peter, Christy, and Dominique belong to? I'm not aware of any. Why are you still hiding behind a pseudonym?",
            "count": 1
           },
           {
            "name": "NO!, Let him, we need a Conservative government.",
            "count": 1
           },
           {
            "name": "3 others",
            "count": 3
           }
          ]
         }
        },
        {
         "name": "target",
         "dtype": "float64",
         "stats": {
          "unique_count": 3,
          "nan_count": 0,
          "min": "0.0",
          "max": "0.3",
          "histogram": [
           {
            "bin_start": 0,
            "bin_end": 0.03,
            "count": 3
           },
           {
            "bin_start": 0.03,
            "bin_end": 0.06,
            "count": 0
           },
           {
            "bin_start": 0.06,
            "bin_end": 0.09,
            "count": 0
           },
           {
            "bin_start": 0.09,
            "bin_end": 0.12,
            "count": 0
           },
           {
            "bin_start": 0.12,
            "bin_end": 0.15,
            "count": 0
           },
           {
            "bin_start": 0.15,
            "bin_end": 0.18,
            "count": 0
           },
           {
            "bin_start": 0.18,
            "bin_end": 0.21,
            "count": 1
           },
           {
            "bin_start": 0.21,
            "bin_end": 0.24,
            "count": 0
           },
           {
            "bin_start": 0.24,
            "bin_end": 0.27,
            "count": 0
           },
           {
            "bin_start": 0.27,
            "bin_end": 0.3,
            "count": 1
           }
          ]
         }
        },
        {
         "name": "_deepnote_index_column",
         "dtype": "int64"
        }
       ],
       "rows": [
        {
         "id": 6101457,
         "comment_text": "What are you talking about? What group do Peter, Christy, and Dominique belong to? I'm not aware of any. Why are you still hiding behind a pseudonym?",
         "target": 0,
         "_deepnote_index_column": 0
        },
        {
         "id": 5342103,
         "comment_text": "NO!, Let him, we need a Conservative government.",
         "target": 0,
         "_deepnote_index_column": 1
        },
        {
         "id": 743361,
         "comment_text": "Perhaps he took the \"power out of the Cardinal's hands\" to avoid any semblance of undue influence over the investigation?\n\nWhy is it the immediate reaction of posters here to jump to rash judgment without all the facts?  All the time - no matter what the accusation.  Even more if it is an opportunity to slam the Cardinal.",
         "target": 0.2,
         "_deepnote_index_column": 2
        },
        {
         "id": 551008,
         "comment_text": "As always, yours is dripping with sarcasm, which as I quoted from Psychology Today to you yesterday is a form of bullying.",
         "target": 0,
         "_deepnote_index_column": 3
        },
        {
         "id": 865998,
         "comment_text": "The dirty little secret is that the price range before fees and taxes is 34k to 42k for Chevrolet Traverse, and 29k to 40k for Chevrolet Impala - a meaningful sedan competition.\n\n Right now, crossovers are only marginally more expensive than sedans that are comparable in size, quite often have only marginally worse fuel economy and offer a lot more utility for a number of people.",
         "target": 0.3,
         "_deepnote_index_column": 4
        }
       ]
      },
      "text/plain": "        id                                       comment_text  target\n0  6101457  What are you talking about? What group do Pete...     0.0\n1  5342103   NO!, Let him, we need a Conservative government.     0.0\n2   743361  Perhaps he took the \"power out of the Cardinal...     0.2\n3   551008  As always, yours is dripping with sarcasm, whi...     0.0\n4   865998  The dirty little secret is that the price rang...     0.3",
      "text/html": "<div>\n<style scoped>\n    .dataframe tbody tr th:only-of-type {\n        vertical-align: middle;\n    }\n\n    .dataframe tbody tr th {\n        vertical-align: top;\n    }\n\n    .dataframe thead th {\n        text-align: right;\n    }\n</style>\n<table border=\"1\" class=\"dataframe\">\n  <thead>\n    <tr style=\"text-align: right;\">\n      <th></th>\n      <th>id</th>\n      <th>comment_text</th>\n      <th>target</th>\n    </tr>\n  </thead>\n  <tbody>\n    <tr>\n      <th>0</th>\n      <td>6101457</td>\n      <td>What are you talking about? What group do Pete...</td>\n      <td>0.0</td>\n    </tr>\n    <tr>\n      <th>1</th>\n      <td>5342103</td>\n      <td>NO!, Let him, we need a Conservative government.</td>\n      <td>0.0</td>\n    </tr>\n    <tr>\n      <th>2</th>\n      <td>743361</td>\n      <td>Perhaps he took the \"power out of the Cardinal...</td>\n      <td>0.2</td>\n    </tr>\n    <tr>\n      <th>3</th>\n      <td>551008</td>\n      <td>As always, yours is dripping with sarcasm, whi...</td>\n      <td>0.0</td>\n    </tr>\n    <tr>\n      <th>4</th>\n      <td>865998</td>\n      <td>The dirty little secret is that the price rang...</td>\n      <td>0.3</td>\n    </tr>\n  </tbody>\n</table>\n</div>"
     },
     "metadata": {}
    }
   ]
  },
  {
   "cell_type": "code",
   "metadata": {
    "cell_id": "00006-0198466b-6004-4147-b157-d2e8c4e40d10",
    "deepnote_to_be_reexecuted": false,
    "source_hash": "b720c9d1",
    "execution_start": 1651342379955,
    "execution_millis": 303,
    "deepnote_cell_type": "code",
    "deepnote_cell_height": 417.1875,
    "deepnote_output_heights": [
     21.1875,
     250
    ]
   },
   "source": "# Impresión histograma de variable de interés (y)\ndf.target.hist()",
   "execution_count": null,
   "outputs": [
    {
     "output_type": "execute_result",
     "execution_count": 5,
     "data": {
      "text/plain": "<AxesSubplot:>"
     },
     "metadata": {}
    },
    {
     "data": {
      "text/plain": "<Figure size 432x288 with 1 Axes>",
      "image/png": "[encoded data removed]"
     },
     "metadata": {
      "needs_background": "light",
      "image/png": {
       "width": 393,
       "height": 248
      }
     },
     "output_type": "display_data"
    }
   ]
  },
  {
   "cell_type": "code",
   "metadata": {
    "cell_id": "00007-b0893d0e-1a1c-48f0-9da0-56917df45944",
    "deepnote_to_be_reexecuted": false,
    "source_hash": "df513b18",
    "execution_start": 1651342380260,
    "execution_millis": 28,
    "deepnote_cell_type": "code",
    "deepnote_cell_height": 308,
    "deepnote_output_heights": [
     174.6875
    ]
   },
   "source": "# Separación de variable de interés (y)\ny = df.target\ny.describe()",
   "execution_count": null,
   "outputs": [
    {
     "output_type": "execute_result",
     "execution_count": 6,
     "data": {
      "text/plain": "count    541462.000000\nmean          0.102991\nstd           0.196979\nmin           0.000000\n25%           0.000000\n50%           0.000000\n75%           0.166667\nmax           1.000000\nName: target, dtype: float64"
     },
     "metadata": {}
    }
   ]
  },
  {
   "cell_type": "code",
   "metadata": {
    "cell_id": "00008-d0ea0d23-71d8-429b-b4bc-09eb3751f8e9",
    "deepnote_to_be_reexecuted": false,
    "source_hash": "5aeff20c",
    "execution_start": 1651342382232,
    "execution_millis": 1,
    "deepnote_cell_type": "code",
    "deepnote_cell_height": 99
   },
   "source": "# Separación de variables predictoras (X), solo se considera el texto de la noticia\nX = df.comment_text",
   "execution_count": null,
   "outputs": []
  },
  {
   "cell_type": "code",
   "metadata": {
    "cell_id": "00009-1fac62eb-0099-4994-82fc-282fadad7d8f",
    "deepnote_to_be_reexecuted": false,
    "source_hash": "4dd8a522",
    "execution_start": 1651342383598,
    "execution_millis": 168,
    "deepnote_cell_type": "code",
    "deepnote_cell_height": 99
   },
   "source": "# Separación de datos en set de entrenamiento y test\nX_train, X_test, y_train, y_test = train_test_split(X, y, test_size=0.33, random_state=42)",
   "execution_count": null,
   "outputs": []
  },
  {
   "cell_type": "markdown",
   "source": "## Punto 1 - Tokenización con CountVectorizer\n\nEn la celda 1 creen y entrenen el modelo de regresión de su preferencia, para que prediga la probabilidad de que un comentario sea tóxico, usando los set de entrenamiento y test definidos anteriormente. Usen la función **CountVectorizer** para preprocesar los comentarios y presenten el desempeño del modelo con la métrica del acurracy.\n\nRecuerden que el preprocesamiento que se haga sobre los datos de entrenamiento  (*.fit_transform()*) deben ser aplicado al set de test (*.transform()*).",
   "metadata": {
    "cell_id": "00010-18bfd76a-7c74-4551-93db-c00744afbb8e",
    "deepnote_cell_type": "markdown",
    "deepnote_cell_height": 319.125
   }
  },
  {
   "cell_type": "code",
   "metadata": {
    "cell_id": "00011-48d5a94e-a366-4e7a-b139-0db11d98f992",
    "deepnote_to_be_reexecuted": false,
    "source_hash": "dba53603",
    "execution_start": 1651342387114,
    "execution_millis": 14665,
    "deepnote_cell_type": "code",
    "deepnote_cell_height": 189
   },
   "source": "# Celda 1\n# por razones de meoria computacionel se utilizan stopwords\n# y se configura el maxfeatures como 100\nsw = stopwords.words(\"english\")\nvect_1 = CountVectorizer(stop_words=sw, dtype=np.int8, max_features=100)\nXdtm_C = vect_1.fit_transform(X_train)\ntemp_C = Xdtm_C.todense()",
   "execution_count": null,
   "outputs": []
  },
  {
   "cell_type": "code",
   "metadata": {
    "cell_id": "2140fe1454914e449d0114e6465ac0e1",
    "tags": [],
    "deepnote_to_be_reexecuted": false,
    "source_hash": "486e7bd1",
    "execution_start": 1651342809589,
    "execution_millis": 42336,
    "deepnote_cell_type": "code",
    "deepnote_cell_height": 364.1875
   },
   "source": "# en este caso utilizaremos el modelos xgboost directamente, lo anterior\n# dado a que la estructura dmatrix ofrece una velocidad de procesamiento\n# mejorada\n\ndmatrix_train = xgboost.DMatrix(Xdtm_C,y_train)\ndmatrix_test = xgboost.DMatrix(data=vect_1.transform(X_test))\nparams = {\"objective\":\"reg:squarederror\",'colsample_bytree': 0.9,'learning_rate': 1,\n                'max_depth': 5, 'alpha': 10}\nXGB_train = xgboost.train(dtrain=dmatrix_train, params=params, num_boost_round=200)\npred_t = XGB_train.predict(dmatrix_test)\nMSE_t = metrics.mean_squared_error(y_true=y_test,y_pred=pred_t)\nprint(\"RMSE test: \", MSE_t**0.5)\n# por eficiencia computacional no se utiliza cross val score, ya que se nos indica\n# utilizar datos de entrenamiento y de prueba\n",
   "execution_count": null,
   "outputs": [
    {
     "name": "stdout",
     "text": "RMSE test:  0.19835902395071378\n",
     "output_type": "stream"
    }
   ]
  },
  {
   "cell_type": "markdown",
   "source": "## Punto 2 - Tokenización con CountVectorizer y trigramas\n\nEn la celda 2 creen y entrenen el mismo modelo de regresión del punto anterior (es decir si usaron un RandomForestRegresor usen nuevamente ese regresor), para que prediga la probabilidad de que un comentario sea tóxico, usando los set de entrenamiento y test definidos anteriormente. Usen la función CountVectorizer **considerando trigramas** para preprocesar los comentarios y presenten el desempeño del modelo con la métrica del acurracy.\n\nRecuerden que el preprocesamiento que se haga sobre los datos de entrenamiento  (*.fit_transform()*) deben ser aplicado al set de test (*.transform()*).",
   "metadata": {
    "cell_id": "00012-a44b6be6-0bd1-42eb-a23d-90ccae616c49",
    "deepnote_cell_type": "markdown",
    "deepnote_cell_height": 363.90625
   }
  },
  {
   "cell_type": "code",
   "metadata": {
    "cell_id": "00013-f2f3e2b9-9714-4813-ab40-aa8a8344b4d4",
    "deepnote_to_be_reexecuted": false,
    "source_hash": "afbbb622",
    "execution_start": 1651342513019,
    "execution_millis": 68097,
    "deepnote_cell_type": "code",
    "deepnote_cell_height": 117
   },
   "source": "# Celda 2\nvect_2 = CountVectorizer(stop_words=sw,ngram_range=(3,3), max_features=100, dtype=np.int8)\nXdtm_CN = vect_2.fit_transform(X_train)",
   "execution_count": null,
   "outputs": []
  },
  {
   "cell_type": "code",
   "metadata": {
    "cell_id": "97516ee63d754c428461f76548fbf5ec",
    "tags": [],
    "deepnote_to_be_reexecuted": false,
    "source_hash": "1c965d6f",
    "execution_start": 1651342875463,
    "execution_millis": 17983,
    "deepnote_cell_type": "code",
    "deepnote_cell_height": 202.1875
   },
   "source": "dmatrix_train_2 = xgboost.DMatrix(Xdtm_CN,y_train)\ndmatrix_test_2 = xgboost.DMatrix(data=vect_2.transform(X_test))\nXGB_train = xgboost.train(dtrain=dmatrix_train_2, params=params, num_boost_round=200)\npred_t = XGB_train.predict(dmatrix_test_2)\nMSE_t = metrics.mean_squared_error(y_true=y_test,y_pred=pred_t)\nprint(\"RMSE test: \", MSE_t**0.5)",
   "execution_count": null,
   "outputs": [
    {
     "name": "stdout",
     "text": "RMSE test:  0.1975968804585109\n",
     "output_type": "stream"
    }
   ]
  },
  {
   "cell_type": "markdown",
   "source": "## Punto 3 - TfidfVectorizer\n\nInvestigen sobre la función TfidfVectorizer. En la celda de texto 3, expliquen en qué consiste esta técnica de tokenización (describanla y expliquen su funcionamiento) y cúales son las ventajas o deventajas de su uso al compararlo con la función CountVectorizer.",
   "metadata": {
    "cell_id": "00014-5d36f0e3-1d20-42b7-8fef-32465f6f22ac",
    "deepnote_cell_type": "markdown",
    "deepnote_cell_height": 175.5625
   }
  },
  {
   "cell_type": "markdown",
   "source": "#Celda 3\nLa función TfidVectorazer convierte una colección de caracteres, palabras o ngramas a una matriz TF IDF.\n\nEl termino **TF** significa **Term Frecuency** o frecuencia del término caracter, palabra o ngrama\n\nTF-IDF traduce **Term frecuency times inverse document frecuency** lo que traduciría frecuencia del termino por la inversa de la frecuencia del termino donde:\n\n$idf(t)= log *(1+n/1+df(t))+1$\n\nDonde n = total de documentos o textos\nd(t) = nu,eros de veces que aparece la palabra t en los textos\n\nDado lo anterior TFidVectorizar es una forma de recalcular los pesos de los terminos que acarrean poco significado pero tienen gran frecuencia y que pueden opacar palabras más significativas pero con menos frecuencia.",
   "metadata": {
    "cell_id": "63ae8f168b404d7e9476f005ae28323b",
    "tags": [],
    "deepnote_cell_type": "markdown",
    "deepnote_cell_height": 413.46875
   }
  },
  {
   "cell_type": "markdown",
   "source": "## Punto 4 - Tokenización con TfidfVectorizer\n\nEn la celda 4 creen y entrenen el mismo modelo de regresión del primer punto, para que prediga la probabilidad de que un comentario sea tóxico, usando los set de entrenamiento y test definidos anteriormente. Procesen los comentarios con la función **TfidfVectorizer** y presenten el desempeño del modelo con la métrica del acurracy.\n\nRecuerden que el preprocesamiento que se haga sobre los datos de entrenamiento  (*.fit_transform()*) deben ser aplicado al set de test (*.transform()*).",
   "metadata": {
    "cell_id": "00016-6c70c207-bfdc-4cfd-af76-1b172e3c0ffd",
    "deepnote_cell_type": "markdown",
    "deepnote_cell_height": 319.125
   }
  },
  {
   "cell_type": "code",
   "metadata": {
    "cell_id": "00017-0040a6b3-4dec-452d-b362-ddb3c3add51f",
    "deepnote_to_be_reexecuted": false,
    "source_hash": "de85798f",
    "execution_start": 1651342643525,
    "execution_millis": 14717,
    "deepnote_cell_type": "code",
    "deepnote_cell_height": 135
   },
   "source": "# Celda 4\n\nvect_3 = TfidfVectorizer(stop_words=sw,max_features=100, dtype=np.int8)\nXdtm_T = vect_3.fit_transform(X_train)",
   "execution_count": null,
   "outputs": []
  },
  {
   "cell_type": "code",
   "metadata": {
    "cell_id": "7e333fc7cea34cfaad32bfb1c6126cd2",
    "tags": [],
    "deepnote_to_be_reexecuted": false,
    "source_hash": "7c881919",
    "execution_start": 1651342918943,
    "execution_millis": 107667,
    "deepnote_cell_type": "code",
    "deepnote_cell_height": 202.1875
   },
   "source": "dmatrix_train_3 = xgboost.DMatrix(Xdtm_T,y_train)\ndmatrix_test_3 = xgboost.DMatrix(data=vect_3.transform(X_test))\nXGB_train = xgboost.train(dtrain=dmatrix_train_3, params=params, num_boost_round=200)\npred_t = XGB_train.predict(dmatrix_test_3)\nMSE_t = metrics.mean_squared_error(y_true=y_test,y_pred=pred_t)\nprint(\"RMSE test: \", MSE_t**0.5)",
   "execution_count": null,
   "outputs": [
    {
     "name": "stdout",
     "text": "RMSE test:  0.19874080960087817\n",
     "output_type": "stream"
    }
   ]
  },
  {
   "cell_type": "markdown",
   "source": "## Punto 5 - Comparación y análisis de resultados\n\nEn la celda 5 comparen los resultados obtenidos de los diferentes modelos y comenten cómo el preprocesamiento de texto afecta el desempeño.",
   "metadata": {
    "cell_id": "00018-70c334bd-1021-42c5-8223-d25490b27170",
    "deepnote_cell_type": "markdown",
    "deepnote_cell_height": 193.171875
   }
  },
  {
   "cell_type": "code",
   "metadata": {
    "cell_id": "00019-35be7c38-8522-4378-94a8-aa055c13dd6c",
    "deepnote_to_be_reexecuted": false,
    "source_hash": "120a96af",
    "execution_start": 1651343059090,
    "execution_millis": 234,
    "deepnote_cell_type": "code",
    "deepnote_cell_height": 507.1875,
    "deepnote_output_heights": [
     21.1875,
     250
    ]
   },
   "source": "# Celda 5\nimport matplotlib.pyplot as plt\nResultado = {\"cvectorizer\":0.1983,\n\"cvectorizerTrigram\":0.1975,\n\"Tfidvectorizer\":0.1987}\n\nplt.bar(height=Resultado.values(),x=Resultado.keys())",
   "execution_count": null,
   "outputs": [
    {
     "output_type": "execute_result",
     "execution_count": 18,
     "data": {
      "text/plain": "<BarContainer object of 3 artists>"
     },
     "metadata": {}
    },
    {
     "data": {
      "text/plain": "<Figure size 432x288 with 1 Axes>",
      "image/png": "[encoded data removed]"
     },
     "metadata": {
      "needs_background": "light",
      "image/png": {
       "width": 384,
       "height": 248
      }
     },
     "output_type": "display_data"
    }
   ]
  },
  {
   "cell_type": "markdown",
   "source": "En este sentido y dado al modelo escogido, se puede observar resultados muy similares, evidenciando que el metódo de tokenización no afecta significativamente la función de pérdida.",
   "metadata": {
    "cell_id": "be7f9c5019e04c6aa6cc7445af7c1fb4",
    "tags": [],
    "owner_user_id": "0aee5054-d7b4-4b4a-814f-61b55b4cbd97",
    "deepnote_cell_type": "markdown",
    "deepnote_cell_height": 97.171875
   }
  },
  {
   "cell_type": "markdown",
   "source": "<a style='text-decoration:none;line-height:16px;display:flex;color:#5B5B62;padding:10px;justify-content:end;' href='https://deepnote.com?utm_source=created-in-deepnote-cell&projectId=6d956330-3e87-422f-bfd2-6a3784e4572c' target=\"_blank\">\n<img alt='Created in deepnote.com' style='display:inline;max-height:16px;margin:0px;margin-right:7.5px;' src='data:image/svg+xml;base64,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' > </img>\nCreated in <span style='font-weight:600;margin-left:4px;'>Deepnote</span></a>",
   "metadata": {
    "tags": [],
    "created_in_deepnote_cell": true,
    "deepnote_cell_type": "markdown"
   }
  }
 ],
 "nbformat": 4,
 "nbformat_minor": 4,
 "metadata": {
  "kernelspec": {
   "display_name": "Python 3",
   "language": "python",
   "name": "python3"
  },
  "language_info": {
   "codemirror_mode": {
    "name": "ipython",
    "version": 3
   },
   "file_extension": ".py",
   "mimetype": "text/x-python",
   "name": "python",
   "nbconvert_exporter": "python",
   "pygments_lexer": "ipython3",
   "version": "3.7.3"
  },
  "name": "_merged",
  "deepnote_notebook_id": "f6fa5998-d13c-450a-bafe-81e0423963b5",
  "deepnote": {},
  "deepnote_execution_queue": []
 }
}